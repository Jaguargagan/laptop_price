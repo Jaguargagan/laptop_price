{
  "nbformat": 4,
  "nbformat_minor": 0,
  "metadata": {
    "colab": {
      "name": "Laptop Price.ipynb",
      "provenance": [],
      "collapsed_sections": [
        "4ZqB7j-tDoHe",
        "w8aC3EGFDtjH",
        "I8NI_8-cD_GB"
      ]
    },
    "kernelspec": {
      "name": "python3",
      "display_name": "Python 3"
    },
    "language_info": {
      "name": "python"
    }
  },
  "cells": [
    {
      "cell_type": "markdown",
      "source": [
        "#Importing Libraries and Loading Files"
      ],
      "metadata": {
        "id": "4ZqB7j-tDoHe"
      }
    },
    {
      "cell_type": "code",
      "execution_count": 100,
      "metadata": {
        "id": "YDSXU5aI6PrZ"
      },
      "outputs": [],
      "source": [
        "import pandas as pd\n",
        "import numpy as np\n",
        "import seaborn as sns\n",
        "import matplotlib.pyplot as plt"
      ]
    },
    {
      "cell_type": "code",
      "source": [
        "df=pd.read_csv(\"/content/drive/MyDrive/Data Science/Practice kaggle/Laptop/laptop_price.csv\",encoding='latin-1')"
      ],
      "metadata": {
        "id": "pKEB4kzA6aTf"
      },
      "execution_count": 101,
      "outputs": []
    },
    {
      "cell_type": "code",
      "source": [
        "df.head()"
      ],
      "metadata": {
        "colab": {
          "base_uri": "https://localhost:8080/",
          "height": 336
        },
        "id": "iFtS63rc6tSu",
        "outputId": "cc2d38be-b89d-4fbf-cba8-488a21018068"
      },
      "execution_count": 102,
      "outputs": [
        {
          "output_type": "execute_result",
          "data": {
            "text/plain": [
              "   laptop_ID Company      Product   TypeName  Inches  \\\n",
              "0          1   Apple  MacBook Pro  Ultrabook    13.3   \n",
              "1          2   Apple  Macbook Air  Ultrabook    13.3   \n",
              "2          3      HP       250 G6   Notebook    15.6   \n",
              "3          4   Apple  MacBook Pro  Ultrabook    15.4   \n",
              "4          5   Apple  MacBook Pro  Ultrabook    13.3   \n",
              "\n",
              "                     ScreenResolution                         Cpu   Ram  \\\n",
              "0  IPS Panel Retina Display 2560x1600        Intel Core i5 2.3GHz   8GB   \n",
              "1                            1440x900        Intel Core i5 1.8GHz   8GB   \n",
              "2                   Full HD 1920x1080  Intel Core i5 7200U 2.5GHz   8GB   \n",
              "3  IPS Panel Retina Display 2880x1800        Intel Core i7 2.7GHz  16GB   \n",
              "4  IPS Panel Retina Display 2560x1600        Intel Core i5 3.1GHz   8GB   \n",
              "\n",
              "                Memory                           Gpu  OpSys  Weight  \\\n",
              "0            128GB SSD  Intel Iris Plus Graphics 640  macOS  1.37kg   \n",
              "1  128GB Flash Storage        Intel HD Graphics 6000  macOS  1.34kg   \n",
              "2            256GB SSD         Intel HD Graphics 620  No OS  1.86kg   \n",
              "3            512GB SSD            AMD Radeon Pro 455  macOS  1.83kg   \n",
              "4            256GB SSD  Intel Iris Plus Graphics 650  macOS  1.37kg   \n",
              "\n",
              "   Price_euros  \n",
              "0      1339.69  \n",
              "1       898.94  \n",
              "2       575.00  \n",
              "3      2537.45  \n",
              "4      1803.60  "
            ],
            "text/html": [
              "\n",
              "  <div id=\"df-640e4cd5-89ea-4c60-96a6-04cbe73b1b9e\">\n",
              "    <div class=\"colab-df-container\">\n",
              "      <div>\n",
              "<style scoped>\n",
              "    .dataframe tbody tr th:only-of-type {\n",
              "        vertical-align: middle;\n",
              "    }\n",
              "\n",
              "    .dataframe tbody tr th {\n",
              "        vertical-align: top;\n",
              "    }\n",
              "\n",
              "    .dataframe thead th {\n",
              "        text-align: right;\n",
              "    }\n",
              "</style>\n",
              "<table border=\"1\" class=\"dataframe\">\n",
              "  <thead>\n",
              "    <tr style=\"text-align: right;\">\n",
              "      <th></th>\n",
              "      <th>laptop_ID</th>\n",
              "      <th>Company</th>\n",
              "      <th>Product</th>\n",
              "      <th>TypeName</th>\n",
              "      <th>Inches</th>\n",
              "      <th>ScreenResolution</th>\n",
              "      <th>Cpu</th>\n",
              "      <th>Ram</th>\n",
              "      <th>Memory</th>\n",
              "      <th>Gpu</th>\n",
              "      <th>OpSys</th>\n",
              "      <th>Weight</th>\n",
              "      <th>Price_euros</th>\n",
              "    </tr>\n",
              "  </thead>\n",
              "  <tbody>\n",
              "    <tr>\n",
              "      <th>0</th>\n",
              "      <td>1</td>\n",
              "      <td>Apple</td>\n",
              "      <td>MacBook Pro</td>\n",
              "      <td>Ultrabook</td>\n",
              "      <td>13.3</td>\n",
              "      <td>IPS Panel Retina Display 2560x1600</td>\n",
              "      <td>Intel Core i5 2.3GHz</td>\n",
              "      <td>8GB</td>\n",
              "      <td>128GB SSD</td>\n",
              "      <td>Intel Iris Plus Graphics 640</td>\n",
              "      <td>macOS</td>\n",
              "      <td>1.37kg</td>\n",
              "      <td>1339.69</td>\n",
              "    </tr>\n",
              "    <tr>\n",
              "      <th>1</th>\n",
              "      <td>2</td>\n",
              "      <td>Apple</td>\n",
              "      <td>Macbook Air</td>\n",
              "      <td>Ultrabook</td>\n",
              "      <td>13.3</td>\n",
              "      <td>1440x900</td>\n",
              "      <td>Intel Core i5 1.8GHz</td>\n",
              "      <td>8GB</td>\n",
              "      <td>128GB Flash Storage</td>\n",
              "      <td>Intel HD Graphics 6000</td>\n",
              "      <td>macOS</td>\n",
              "      <td>1.34kg</td>\n",
              "      <td>898.94</td>\n",
              "    </tr>\n",
              "    <tr>\n",
              "      <th>2</th>\n",
              "      <td>3</td>\n",
              "      <td>HP</td>\n",
              "      <td>250 G6</td>\n",
              "      <td>Notebook</td>\n",
              "      <td>15.6</td>\n",
              "      <td>Full HD 1920x1080</td>\n",
              "      <td>Intel Core i5 7200U 2.5GHz</td>\n",
              "      <td>8GB</td>\n",
              "      <td>256GB SSD</td>\n",
              "      <td>Intel HD Graphics 620</td>\n",
              "      <td>No OS</td>\n",
              "      <td>1.86kg</td>\n",
              "      <td>575.00</td>\n",
              "    </tr>\n",
              "    <tr>\n",
              "      <th>3</th>\n",
              "      <td>4</td>\n",
              "      <td>Apple</td>\n",
              "      <td>MacBook Pro</td>\n",
              "      <td>Ultrabook</td>\n",
              "      <td>15.4</td>\n",
              "      <td>IPS Panel Retina Display 2880x1800</td>\n",
              "      <td>Intel Core i7 2.7GHz</td>\n",
              "      <td>16GB</td>\n",
              "      <td>512GB SSD</td>\n",
              "      <td>AMD Radeon Pro 455</td>\n",
              "      <td>macOS</td>\n",
              "      <td>1.83kg</td>\n",
              "      <td>2537.45</td>\n",
              "    </tr>\n",
              "    <tr>\n",
              "      <th>4</th>\n",
              "      <td>5</td>\n",
              "      <td>Apple</td>\n",
              "      <td>MacBook Pro</td>\n",
              "      <td>Ultrabook</td>\n",
              "      <td>13.3</td>\n",
              "      <td>IPS Panel Retina Display 2560x1600</td>\n",
              "      <td>Intel Core i5 3.1GHz</td>\n",
              "      <td>8GB</td>\n",
              "      <td>256GB SSD</td>\n",
              "      <td>Intel Iris Plus Graphics 650</td>\n",
              "      <td>macOS</td>\n",
              "      <td>1.37kg</td>\n",
              "      <td>1803.60</td>\n",
              "    </tr>\n",
              "  </tbody>\n",
              "</table>\n",
              "</div>\n",
              "      <button class=\"colab-df-convert\" onclick=\"convertToInteractive('df-640e4cd5-89ea-4c60-96a6-04cbe73b1b9e')\"\n",
              "              title=\"Convert this dataframe to an interactive table.\"\n",
              "              style=\"display:none;\">\n",
              "        \n",
              "  <svg xmlns=\"http://www.w3.org/2000/svg\" height=\"24px\"viewBox=\"0 0 24 24\"\n",
              "       width=\"24px\">\n",
              "    <path d=\"M0 0h24v24H0V0z\" fill=\"none\"/>\n",
              "    <path d=\"M18.56 5.44l.94 2.06.94-2.06 2.06-.94-2.06-.94-.94-2.06-.94 2.06-2.06.94zm-11 1L8.5 8.5l.94-2.06 2.06-.94-2.06-.94L8.5 2.5l-.94 2.06-2.06.94zm10 10l.94 2.06.94-2.06 2.06-.94-2.06-.94-.94-2.06-.94 2.06-2.06.94z\"/><path d=\"M17.41 7.96l-1.37-1.37c-.4-.4-.92-.59-1.43-.59-.52 0-1.04.2-1.43.59L10.3 9.45l-7.72 7.72c-.78.78-.78 2.05 0 2.83L4 21.41c.39.39.9.59 1.41.59.51 0 1.02-.2 1.41-.59l7.78-7.78 2.81-2.81c.8-.78.8-2.07 0-2.86zM5.41 20L4 18.59l7.72-7.72 1.47 1.35L5.41 20z\"/>\n",
              "  </svg>\n",
              "      </button>\n",
              "      \n",
              "  <style>\n",
              "    .colab-df-container {\n",
              "      display:flex;\n",
              "      flex-wrap:wrap;\n",
              "      gap: 12px;\n",
              "    }\n",
              "\n",
              "    .colab-df-convert {\n",
              "      background-color: #E8F0FE;\n",
              "      border: none;\n",
              "      border-radius: 50%;\n",
              "      cursor: pointer;\n",
              "      display: none;\n",
              "      fill: #1967D2;\n",
              "      height: 32px;\n",
              "      padding: 0 0 0 0;\n",
              "      width: 32px;\n",
              "    }\n",
              "\n",
              "    .colab-df-convert:hover {\n",
              "      background-color: #E2EBFA;\n",
              "      box-shadow: 0px 1px 2px rgba(60, 64, 67, 0.3), 0px 1px 3px 1px rgba(60, 64, 67, 0.15);\n",
              "      fill: #174EA6;\n",
              "    }\n",
              "\n",
              "    [theme=dark] .colab-df-convert {\n",
              "      background-color: #3B4455;\n",
              "      fill: #D2E3FC;\n",
              "    }\n",
              "\n",
              "    [theme=dark] .colab-df-convert:hover {\n",
              "      background-color: #434B5C;\n",
              "      box-shadow: 0px 1px 3px 1px rgba(0, 0, 0, 0.15);\n",
              "      filter: drop-shadow(0px 1px 2px rgba(0, 0, 0, 0.3));\n",
              "      fill: #FFFFFF;\n",
              "    }\n",
              "  </style>\n",
              "\n",
              "      <script>\n",
              "        const buttonEl =\n",
              "          document.querySelector('#df-640e4cd5-89ea-4c60-96a6-04cbe73b1b9e button.colab-df-convert');\n",
              "        buttonEl.style.display =\n",
              "          google.colab.kernel.accessAllowed ? 'block' : 'none';\n",
              "\n",
              "        async function convertToInteractive(key) {\n",
              "          const element = document.querySelector('#df-640e4cd5-89ea-4c60-96a6-04cbe73b1b9e');\n",
              "          const dataTable =\n",
              "            await google.colab.kernel.invokeFunction('convertToInteractive',\n",
              "                                                     [key], {});\n",
              "          if (!dataTable) return;\n",
              "\n",
              "          const docLinkHtml = 'Like what you see? Visit the ' +\n",
              "            '<a target=\"_blank\" href=https://colab.research.google.com/notebooks/data_table.ipynb>data table notebook</a>'\n",
              "            + ' to learn more about interactive tables.';\n",
              "          element.innerHTML = '';\n",
              "          dataTable['output_type'] = 'display_data';\n",
              "          await google.colab.output.renderOutput(dataTable, element);\n",
              "          const docLink = document.createElement('div');\n",
              "          docLink.innerHTML = docLinkHtml;\n",
              "          element.appendChild(docLink);\n",
              "        }\n",
              "      </script>\n",
              "    </div>\n",
              "  </div>\n",
              "  "
            ]
          },
          "metadata": {},
          "execution_count": 102
        }
      ]
    },
    {
      "cell_type": "code",
      "source": [
        "df.info()"
      ],
      "metadata": {
        "colab": {
          "base_uri": "https://localhost:8080/"
        },
        "id": "QhMUwMm1DRw7",
        "outputId": "f14997c0-3298-43f1-9bbe-05581c4b2828"
      },
      "execution_count": 103,
      "outputs": [
        {
          "output_type": "stream",
          "name": "stdout",
          "text": [
            "<class 'pandas.core.frame.DataFrame'>\n",
            "RangeIndex: 1303 entries, 0 to 1302\n",
            "Data columns (total 13 columns):\n",
            " #   Column            Non-Null Count  Dtype  \n",
            "---  ------            --------------  -----  \n",
            " 0   laptop_ID         1303 non-null   int64  \n",
            " 1   Company           1303 non-null   object \n",
            " 2   Product           1303 non-null   object \n",
            " 3   TypeName          1303 non-null   object \n",
            " 4   Inches            1303 non-null   float64\n",
            " 5   ScreenResolution  1303 non-null   object \n",
            " 6   Cpu               1303 non-null   object \n",
            " 7   Ram               1303 non-null   object \n",
            " 8   Memory            1303 non-null   object \n",
            " 9   Gpu               1303 non-null   object \n",
            " 10  OpSys             1303 non-null   object \n",
            " 11  Weight            1303 non-null   object \n",
            " 12  Price_euros       1303 non-null   float64\n",
            "dtypes: float64(2), int64(1), object(10)\n",
            "memory usage: 132.5+ KB\n"
          ]
        }
      ]
    },
    {
      "cell_type": "code",
      "source": [
        "df.describe()"
      ],
      "metadata": {
        "colab": {
          "base_uri": "https://localhost:8080/",
          "height": 300
        },
        "id": "LOlmkaSGDgrJ",
        "outputId": "1b2de5e4-1882-4e79-cd4b-1b4bff5283c4"
      },
      "execution_count": 104,
      "outputs": [
        {
          "output_type": "execute_result",
          "data": {
            "text/plain": [
              "         laptop_ID       Inches  Price_euros\n",
              "count  1303.000000  1303.000000  1303.000000\n",
              "mean    660.155794    15.017191  1123.686992\n",
              "std     381.172104     1.426304   699.009043\n",
              "min       1.000000    10.100000   174.000000\n",
              "25%     331.500000    14.000000   599.000000\n",
              "50%     659.000000    15.600000   977.000000\n",
              "75%     990.500000    15.600000  1487.880000\n",
              "max    1320.000000    18.400000  6099.000000"
            ],
            "text/html": [
              "\n",
              "  <div id=\"df-047275e3-5bb0-4c9a-9aee-9a80aec0a24e\">\n",
              "    <div class=\"colab-df-container\">\n",
              "      <div>\n",
              "<style scoped>\n",
              "    .dataframe tbody tr th:only-of-type {\n",
              "        vertical-align: middle;\n",
              "    }\n",
              "\n",
              "    .dataframe tbody tr th {\n",
              "        vertical-align: top;\n",
              "    }\n",
              "\n",
              "    .dataframe thead th {\n",
              "        text-align: right;\n",
              "    }\n",
              "</style>\n",
              "<table border=\"1\" class=\"dataframe\">\n",
              "  <thead>\n",
              "    <tr style=\"text-align: right;\">\n",
              "      <th></th>\n",
              "      <th>laptop_ID</th>\n",
              "      <th>Inches</th>\n",
              "      <th>Price_euros</th>\n",
              "    </tr>\n",
              "  </thead>\n",
              "  <tbody>\n",
              "    <tr>\n",
              "      <th>count</th>\n",
              "      <td>1303.000000</td>\n",
              "      <td>1303.000000</td>\n",
              "      <td>1303.000000</td>\n",
              "    </tr>\n",
              "    <tr>\n",
              "      <th>mean</th>\n",
              "      <td>660.155794</td>\n",
              "      <td>15.017191</td>\n",
              "      <td>1123.686992</td>\n",
              "    </tr>\n",
              "    <tr>\n",
              "      <th>std</th>\n",
              "      <td>381.172104</td>\n",
              "      <td>1.426304</td>\n",
              "      <td>699.009043</td>\n",
              "    </tr>\n",
              "    <tr>\n",
              "      <th>min</th>\n",
              "      <td>1.000000</td>\n",
              "      <td>10.100000</td>\n",
              "      <td>174.000000</td>\n",
              "    </tr>\n",
              "    <tr>\n",
              "      <th>25%</th>\n",
              "      <td>331.500000</td>\n",
              "      <td>14.000000</td>\n",
              "      <td>599.000000</td>\n",
              "    </tr>\n",
              "    <tr>\n",
              "      <th>50%</th>\n",
              "      <td>659.000000</td>\n",
              "      <td>15.600000</td>\n",
              "      <td>977.000000</td>\n",
              "    </tr>\n",
              "    <tr>\n",
              "      <th>75%</th>\n",
              "      <td>990.500000</td>\n",
              "      <td>15.600000</td>\n",
              "      <td>1487.880000</td>\n",
              "    </tr>\n",
              "    <tr>\n",
              "      <th>max</th>\n",
              "      <td>1320.000000</td>\n",
              "      <td>18.400000</td>\n",
              "      <td>6099.000000</td>\n",
              "    </tr>\n",
              "  </tbody>\n",
              "</table>\n",
              "</div>\n",
              "      <button class=\"colab-df-convert\" onclick=\"convertToInteractive('df-047275e3-5bb0-4c9a-9aee-9a80aec0a24e')\"\n",
              "              title=\"Convert this dataframe to an interactive table.\"\n",
              "              style=\"display:none;\">\n",
              "        \n",
              "  <svg xmlns=\"http://www.w3.org/2000/svg\" height=\"24px\"viewBox=\"0 0 24 24\"\n",
              "       width=\"24px\">\n",
              "    <path d=\"M0 0h24v24H0V0z\" fill=\"none\"/>\n",
              "    <path d=\"M18.56 5.44l.94 2.06.94-2.06 2.06-.94-2.06-.94-.94-2.06-.94 2.06-2.06.94zm-11 1L8.5 8.5l.94-2.06 2.06-.94-2.06-.94L8.5 2.5l-.94 2.06-2.06.94zm10 10l.94 2.06.94-2.06 2.06-.94-2.06-.94-.94-2.06-.94 2.06-2.06.94z\"/><path d=\"M17.41 7.96l-1.37-1.37c-.4-.4-.92-.59-1.43-.59-.52 0-1.04.2-1.43.59L10.3 9.45l-7.72 7.72c-.78.78-.78 2.05 0 2.83L4 21.41c.39.39.9.59 1.41.59.51 0 1.02-.2 1.41-.59l7.78-7.78 2.81-2.81c.8-.78.8-2.07 0-2.86zM5.41 20L4 18.59l7.72-7.72 1.47 1.35L5.41 20z\"/>\n",
              "  </svg>\n",
              "      </button>\n",
              "      \n",
              "  <style>\n",
              "    .colab-df-container {\n",
              "      display:flex;\n",
              "      flex-wrap:wrap;\n",
              "      gap: 12px;\n",
              "    }\n",
              "\n",
              "    .colab-df-convert {\n",
              "      background-color: #E8F0FE;\n",
              "      border: none;\n",
              "      border-radius: 50%;\n",
              "      cursor: pointer;\n",
              "      display: none;\n",
              "      fill: #1967D2;\n",
              "      height: 32px;\n",
              "      padding: 0 0 0 0;\n",
              "      width: 32px;\n",
              "    }\n",
              "\n",
              "    .colab-df-convert:hover {\n",
              "      background-color: #E2EBFA;\n",
              "      box-shadow: 0px 1px 2px rgba(60, 64, 67, 0.3), 0px 1px 3px 1px rgba(60, 64, 67, 0.15);\n",
              "      fill: #174EA6;\n",
              "    }\n",
              "\n",
              "    [theme=dark] .colab-df-convert {\n",
              "      background-color: #3B4455;\n",
              "      fill: #D2E3FC;\n",
              "    }\n",
              "\n",
              "    [theme=dark] .colab-df-convert:hover {\n",
              "      background-color: #434B5C;\n",
              "      box-shadow: 0px 1px 3px 1px rgba(0, 0, 0, 0.15);\n",
              "      filter: drop-shadow(0px 1px 2px rgba(0, 0, 0, 0.3));\n",
              "      fill: #FFFFFF;\n",
              "    }\n",
              "  </style>\n",
              "\n",
              "      <script>\n",
              "        const buttonEl =\n",
              "          document.querySelector('#df-047275e3-5bb0-4c9a-9aee-9a80aec0a24e button.colab-df-convert');\n",
              "        buttonEl.style.display =\n",
              "          google.colab.kernel.accessAllowed ? 'block' : 'none';\n",
              "\n",
              "        async function convertToInteractive(key) {\n",
              "          const element = document.querySelector('#df-047275e3-5bb0-4c9a-9aee-9a80aec0a24e');\n",
              "          const dataTable =\n",
              "            await google.colab.kernel.invokeFunction('convertToInteractive',\n",
              "                                                     [key], {});\n",
              "          if (!dataTable) return;\n",
              "\n",
              "          const docLinkHtml = 'Like what you see? Visit the ' +\n",
              "            '<a target=\"_blank\" href=https://colab.research.google.com/notebooks/data_table.ipynb>data table notebook</a>'\n",
              "            + ' to learn more about interactive tables.';\n",
              "          element.innerHTML = '';\n",
              "          dataTable['output_type'] = 'display_data';\n",
              "          await google.colab.output.renderOutput(dataTable, element);\n",
              "          const docLink = document.createElement('div');\n",
              "          docLink.innerHTML = docLinkHtml;\n",
              "          element.appendChild(docLink);\n",
              "        }\n",
              "      </script>\n",
              "    </div>\n",
              "  </div>\n",
              "  "
            ]
          },
          "metadata": {},
          "execution_count": 104
        }
      ]
    },
    {
      "cell_type": "markdown",
      "source": [
        "#Handling Missing Values"
      ],
      "metadata": {
        "id": "w8aC3EGFDtjH"
      }
    },
    {
      "cell_type": "code",
      "source": [
        "df.isnull().sum()"
      ],
      "metadata": {
        "colab": {
          "base_uri": "https://localhost:8080/"
        },
        "id": "XId_4SNHDlks",
        "outputId": "458c3516-11b9-4a1f-f9f2-f8bdc7089651"
      },
      "execution_count": 67,
      "outputs": [
        {
          "output_type": "execute_result",
          "data": {
            "text/plain": [
              "laptop_ID           0\n",
              "Company             0\n",
              "Product             0\n",
              "TypeName            0\n",
              "Inches              0\n",
              "ScreenResolution    0\n",
              "Cpu                 0\n",
              "Ram                 0\n",
              "Memory              0\n",
              "Gpu                 0\n",
              "OpSys               0\n",
              "Weight              0\n",
              "Price_euros         0\n",
              "dtype: int64"
            ]
          },
          "metadata": {},
          "execution_count": 67
        }
      ]
    },
    {
      "cell_type": "markdown",
      "source": [
        "No Missing values\n"
      ],
      "metadata": {
        "id": "xzjjaTCjDzeg"
      }
    },
    {
      "cell_type": "markdown",
      "source": [
        "#EDA"
      ],
      "metadata": {
        "id": "I8NI_8-cD_GB"
      }
    },
    {
      "cell_type": "code",
      "source": [
        "print(len(df.Company.unique()))\n",
        "print(df.Company.unique())\n",
        "print(df.Company.value_counts())"
      ],
      "metadata": {
        "colab": {
          "base_uri": "https://localhost:8080/"
        },
        "id": "5a1CDe7mEd8K",
        "outputId": "e2ec93d1-6666-4696-bd12-4b43ef17a853"
      },
      "execution_count": 69,
      "outputs": [
        {
          "output_type": "stream",
          "name": "stdout",
          "text": [
            "19\n",
            "['Apple' 'HP' 'Acer' 'Asus' 'Dell' 'Lenovo' 'Chuwi' 'MSI' 'Microsoft'\n",
            " 'Toshiba' 'Huawei' 'Xiaomi' 'Vero' 'Razer' 'Mediacom' 'Samsung' 'Google'\n",
            " 'Fujitsu' 'LG']\n",
            "Dell         297\n",
            "Lenovo       297\n",
            "HP           274\n",
            "Asus         158\n",
            "Acer         103\n",
            "MSI           54\n",
            "Toshiba       48\n",
            "Apple         21\n",
            "Samsung        9\n",
            "Razer          7\n",
            "Mediacom       7\n",
            "Microsoft      6\n",
            "Xiaomi         4\n",
            "Vero           4\n",
            "Chuwi          3\n",
            "Google         3\n",
            "Fujitsu        3\n",
            "LG             3\n",
            "Huawei         2\n",
            "Name: Company, dtype: int64\n"
          ]
        }
      ]
    },
    {
      "cell_type": "markdown",
      "source": [
        "We have Company names and we have some companies, which have not more than 10 products. So it is better to remove these companies from list because it will affect performance."
      ],
      "metadata": {
        "id": "lXRyfGiLFZ-S"
      }
    },
    {
      "cell_type": "code",
      "source": [
        "ab=df.Company.value_counts()"
      ],
      "metadata": {
        "id": "QE8OpUskEhUJ"
      },
      "execution_count": 70,
      "outputs": []
    },
    {
      "cell_type": "code",
      "source": [
        "df[df['Company'].isin(ab[ab > 10].index)].head()"
      ],
      "metadata": {
        "colab": {
          "base_uri": "https://localhost:8080/",
          "height": 336
        },
        "id": "PdqRAS6GJ9dW",
        "outputId": "0512c6aa-c732-4f57-de90-402005c5e9c0"
      },
      "execution_count": 71,
      "outputs": [
        {
          "output_type": "execute_result",
          "data": {
            "text/plain": [
              "   laptop_ID Company      Product   TypeName  Inches  \\\n",
              "0          1   Apple  MacBook Pro  Ultrabook    13.3   \n",
              "1          2   Apple  Macbook Air  Ultrabook    13.3   \n",
              "2          3      HP       250 G6   Notebook    15.6   \n",
              "3          4   Apple  MacBook Pro  Ultrabook    15.4   \n",
              "4          5   Apple  MacBook Pro  Ultrabook    13.3   \n",
              "\n",
              "                     ScreenResolution                         Cpu   Ram  \\\n",
              "0  IPS Panel Retina Display 2560x1600        Intel Core i5 2.3GHz   8GB   \n",
              "1                            1440x900        Intel Core i5 1.8GHz   8GB   \n",
              "2                   Full HD 1920x1080  Intel Core i5 7200U 2.5GHz   8GB   \n",
              "3  IPS Panel Retina Display 2880x1800        Intel Core i7 2.7GHz  16GB   \n",
              "4  IPS Panel Retina Display 2560x1600        Intel Core i5 3.1GHz   8GB   \n",
              "\n",
              "                Memory                           Gpu  OpSys  Weight  \\\n",
              "0            128GB SSD  Intel Iris Plus Graphics 640  macOS  1.37kg   \n",
              "1  128GB Flash Storage        Intel HD Graphics 6000  macOS  1.34kg   \n",
              "2            256GB SSD         Intel HD Graphics 620  No OS  1.86kg   \n",
              "3            512GB SSD            AMD Radeon Pro 455  macOS  1.83kg   \n",
              "4            256GB SSD  Intel Iris Plus Graphics 650  macOS  1.37kg   \n",
              "\n",
              "   Price_euros  \n",
              "0      1339.69  \n",
              "1       898.94  \n",
              "2       575.00  \n",
              "3      2537.45  \n",
              "4      1803.60  "
            ],
            "text/html": [
              "\n",
              "  <div id=\"df-4419f75b-2f0e-4abf-955d-77fe877af5b3\">\n",
              "    <div class=\"colab-df-container\">\n",
              "      <div>\n",
              "<style scoped>\n",
              "    .dataframe tbody tr th:only-of-type {\n",
              "        vertical-align: middle;\n",
              "    }\n",
              "\n",
              "    .dataframe tbody tr th {\n",
              "        vertical-align: top;\n",
              "    }\n",
              "\n",
              "    .dataframe thead th {\n",
              "        text-align: right;\n",
              "    }\n",
              "</style>\n",
              "<table border=\"1\" class=\"dataframe\">\n",
              "  <thead>\n",
              "    <tr style=\"text-align: right;\">\n",
              "      <th></th>\n",
              "      <th>laptop_ID</th>\n",
              "      <th>Company</th>\n",
              "      <th>Product</th>\n",
              "      <th>TypeName</th>\n",
              "      <th>Inches</th>\n",
              "      <th>ScreenResolution</th>\n",
              "      <th>Cpu</th>\n",
              "      <th>Ram</th>\n",
              "      <th>Memory</th>\n",
              "      <th>Gpu</th>\n",
              "      <th>OpSys</th>\n",
              "      <th>Weight</th>\n",
              "      <th>Price_euros</th>\n",
              "    </tr>\n",
              "  </thead>\n",
              "  <tbody>\n",
              "    <tr>\n",
              "      <th>0</th>\n",
              "      <td>1</td>\n",
              "      <td>Apple</td>\n",
              "      <td>MacBook Pro</td>\n",
              "      <td>Ultrabook</td>\n",
              "      <td>13.3</td>\n",
              "      <td>IPS Panel Retina Display 2560x1600</td>\n",
              "      <td>Intel Core i5 2.3GHz</td>\n",
              "      <td>8GB</td>\n",
              "      <td>128GB SSD</td>\n",
              "      <td>Intel Iris Plus Graphics 640</td>\n",
              "      <td>macOS</td>\n",
              "      <td>1.37kg</td>\n",
              "      <td>1339.69</td>\n",
              "    </tr>\n",
              "    <tr>\n",
              "      <th>1</th>\n",
              "      <td>2</td>\n",
              "      <td>Apple</td>\n",
              "      <td>Macbook Air</td>\n",
              "      <td>Ultrabook</td>\n",
              "      <td>13.3</td>\n",
              "      <td>1440x900</td>\n",
              "      <td>Intel Core i5 1.8GHz</td>\n",
              "      <td>8GB</td>\n",
              "      <td>128GB Flash Storage</td>\n",
              "      <td>Intel HD Graphics 6000</td>\n",
              "      <td>macOS</td>\n",
              "      <td>1.34kg</td>\n",
              "      <td>898.94</td>\n",
              "    </tr>\n",
              "    <tr>\n",
              "      <th>2</th>\n",
              "      <td>3</td>\n",
              "      <td>HP</td>\n",
              "      <td>250 G6</td>\n",
              "      <td>Notebook</td>\n",
              "      <td>15.6</td>\n",
              "      <td>Full HD 1920x1080</td>\n",
              "      <td>Intel Core i5 7200U 2.5GHz</td>\n",
              "      <td>8GB</td>\n",
              "      <td>256GB SSD</td>\n",
              "      <td>Intel HD Graphics 620</td>\n",
              "      <td>No OS</td>\n",
              "      <td>1.86kg</td>\n",
              "      <td>575.00</td>\n",
              "    </tr>\n",
              "    <tr>\n",
              "      <th>3</th>\n",
              "      <td>4</td>\n",
              "      <td>Apple</td>\n",
              "      <td>MacBook Pro</td>\n",
              "      <td>Ultrabook</td>\n",
              "      <td>15.4</td>\n",
              "      <td>IPS Panel Retina Display 2880x1800</td>\n",
              "      <td>Intel Core i7 2.7GHz</td>\n",
              "      <td>16GB</td>\n",
              "      <td>512GB SSD</td>\n",
              "      <td>AMD Radeon Pro 455</td>\n",
              "      <td>macOS</td>\n",
              "      <td>1.83kg</td>\n",
              "      <td>2537.45</td>\n",
              "    </tr>\n",
              "    <tr>\n",
              "      <th>4</th>\n",
              "      <td>5</td>\n",
              "      <td>Apple</td>\n",
              "      <td>MacBook Pro</td>\n",
              "      <td>Ultrabook</td>\n",
              "      <td>13.3</td>\n",
              "      <td>IPS Panel Retina Display 2560x1600</td>\n",
              "      <td>Intel Core i5 3.1GHz</td>\n",
              "      <td>8GB</td>\n",
              "      <td>256GB SSD</td>\n",
              "      <td>Intel Iris Plus Graphics 650</td>\n",
              "      <td>macOS</td>\n",
              "      <td>1.37kg</td>\n",
              "      <td>1803.60</td>\n",
              "    </tr>\n",
              "  </tbody>\n",
              "</table>\n",
              "</div>\n",
              "      <button class=\"colab-df-convert\" onclick=\"convertToInteractive('df-4419f75b-2f0e-4abf-955d-77fe877af5b3')\"\n",
              "              title=\"Convert this dataframe to an interactive table.\"\n",
              "              style=\"display:none;\">\n",
              "        \n",
              "  <svg xmlns=\"http://www.w3.org/2000/svg\" height=\"24px\"viewBox=\"0 0 24 24\"\n",
              "       width=\"24px\">\n",
              "    <path d=\"M0 0h24v24H0V0z\" fill=\"none\"/>\n",
              "    <path d=\"M18.56 5.44l.94 2.06.94-2.06 2.06-.94-2.06-.94-.94-2.06-.94 2.06-2.06.94zm-11 1L8.5 8.5l.94-2.06 2.06-.94-2.06-.94L8.5 2.5l-.94 2.06-2.06.94zm10 10l.94 2.06.94-2.06 2.06-.94-2.06-.94-.94-2.06-.94 2.06-2.06.94z\"/><path d=\"M17.41 7.96l-1.37-1.37c-.4-.4-.92-.59-1.43-.59-.52 0-1.04.2-1.43.59L10.3 9.45l-7.72 7.72c-.78.78-.78 2.05 0 2.83L4 21.41c.39.39.9.59 1.41.59.51 0 1.02-.2 1.41-.59l7.78-7.78 2.81-2.81c.8-.78.8-2.07 0-2.86zM5.41 20L4 18.59l7.72-7.72 1.47 1.35L5.41 20z\"/>\n",
              "  </svg>\n",
              "      </button>\n",
              "      \n",
              "  <style>\n",
              "    .colab-df-container {\n",
              "      display:flex;\n",
              "      flex-wrap:wrap;\n",
              "      gap: 12px;\n",
              "    }\n",
              "\n",
              "    .colab-df-convert {\n",
              "      background-color: #E8F0FE;\n",
              "      border: none;\n",
              "      border-radius: 50%;\n",
              "      cursor: pointer;\n",
              "      display: none;\n",
              "      fill: #1967D2;\n",
              "      height: 32px;\n",
              "      padding: 0 0 0 0;\n",
              "      width: 32px;\n",
              "    }\n",
              "\n",
              "    .colab-df-convert:hover {\n",
              "      background-color: #E2EBFA;\n",
              "      box-shadow: 0px 1px 2px rgba(60, 64, 67, 0.3), 0px 1px 3px 1px rgba(60, 64, 67, 0.15);\n",
              "      fill: #174EA6;\n",
              "    }\n",
              "\n",
              "    [theme=dark] .colab-df-convert {\n",
              "      background-color: #3B4455;\n",
              "      fill: #D2E3FC;\n",
              "    }\n",
              "\n",
              "    [theme=dark] .colab-df-convert:hover {\n",
              "      background-color: #434B5C;\n",
              "      box-shadow: 0px 1px 3px 1px rgba(0, 0, 0, 0.15);\n",
              "      filter: drop-shadow(0px 1px 2px rgba(0, 0, 0, 0.3));\n",
              "      fill: #FFFFFF;\n",
              "    }\n",
              "  </style>\n",
              "\n",
              "      <script>\n",
              "        const buttonEl =\n",
              "          document.querySelector('#df-4419f75b-2f0e-4abf-955d-77fe877af5b3 button.colab-df-convert');\n",
              "        buttonEl.style.display =\n",
              "          google.colab.kernel.accessAllowed ? 'block' : 'none';\n",
              "\n",
              "        async function convertToInteractive(key) {\n",
              "          const element = document.querySelector('#df-4419f75b-2f0e-4abf-955d-77fe877af5b3');\n",
              "          const dataTable =\n",
              "            await google.colab.kernel.invokeFunction('convertToInteractive',\n",
              "                                                     [key], {});\n",
              "          if (!dataTable) return;\n",
              "\n",
              "          const docLinkHtml = 'Like what you see? Visit the ' +\n",
              "            '<a target=\"_blank\" href=https://colab.research.google.com/notebooks/data_table.ipynb>data table notebook</a>'\n",
              "            + ' to learn more about interactive tables.';\n",
              "          element.innerHTML = '';\n",
              "          dataTable['output_type'] = 'display_data';\n",
              "          await google.colab.output.renderOutput(dataTable, element);\n",
              "          const docLink = document.createElement('div');\n",
              "          docLink.innerHTML = docLinkHtml;\n",
              "          element.appendChild(docLink);\n",
              "        }\n",
              "      </script>\n",
              "    </div>\n",
              "  </div>\n",
              "  "
            ]
          },
          "metadata": {},
          "execution_count": 71
        }
      ]
    },
    {
      "cell_type": "code",
      "source": [
        "print(df.Product.unique())\n",
        "print(len(df.Product.unique()))"
      ],
      "metadata": {
        "colab": {
          "base_uri": "https://localhost:8080/"
        },
        "id": "bTyW2rRdI7j1",
        "outputId": "b86a6d85-895c-46bc-ea97-05e0172f3003"
      },
      "execution_count": 72,
      "outputs": [
        {
          "output_type": "stream",
          "name": "stdout",
          "text": [
            "['MacBook Pro' 'Macbook Air' '250 G6' 'Aspire 3' 'ZenBook UX430UN'\n",
            " 'Swift 3' 'Inspiron 3567' 'MacBook 12\"' 'IdeaPad 320-15IKB' 'XPS 13'\n",
            " 'Vivobook E200HA' 'Legion Y520-15IKBN' '255 G6' 'Inspiron 5379'\n",
            " '15-BS101nv (i7-8550U/8GB/256GB/FHD/W10)' 'MacBook Air' 'Inspiron 5570'\n",
            " 'Latitude 5590' 'ProBook 470' 'LapBook 15.6\"'\n",
            " 'E402WA-GA010T (E2-6110/2GB/32GB/W10)'\n",
            " '17-ak001nv (A6-9220/4GB/500GB/Radeon' 'IdeaPad 120S-14IAP'\n",
            " 'Inspiron 5770' 'ProBook 450' 'X540UA-DM186 (i3-6006U/4GB/1TB/FHD/Linux)'\n",
            " 'Inspiron 7577' 'X542UQ-GO005 (i5-7200U/8GB/1TB/GeForce'\n",
            " 'Aspire A515-51G' 'Inspiron 7773' 'IdeaPad 320-15ISK' 'Rog Strix'\n",
            " 'X751NV-TY001T (N4200/4GB/1TB/GeForce' 'Yoga Book' 'ProBook 430'\n",
            " 'Inspiron 3576' '15-bs002nv (i3-6006U/4GB/128GB/FHD/W10)' 'VivoBook Max'\n",
            " 'GS73VR 7RG' 'X541UA-DM1897 (i3-6006U/4GB/256GB/FHD/Linux)' 'Vostro 5471'\n",
            " 'IdeaPad 520S-14IKB' 'UX410UA-GV350T (i5-8250U/8GB/256GB/FHD/W10)'\n",
            " 'ZenBook Pro' 'Stream 14-AX040wm' 'V310-15ISK (i5-7200U/4GB/1TB/FHD/W10)'\n",
            " 'FX753VE-GC093 (i7-7700HQ/12GB/1TB/GeForce' 'Surface Laptop'\n",
            " 'Inspiron 5370' 'GL72M 7RDX' 'Aspire E5-475'\n",
            " 'FX503VD-E4022T (i7-7700HQ/8GB/1TB/GeForce' 'IdeaPad 320-15IKBN'\n",
            " 'Aspire A515-51G-32MX' 'ProBook 440' 'IdeaPad 320-15AST'\n",
            " 'Pavilion 15-CK000nv' 'FX503VM-E4007T (i7-7700HQ/16GB/1TB'\n",
            " 'FX550IK-DM018T (FX-9830P/8GB/1TB/Radeon' 'Aspire 5' 'Probook 430'\n",
            " 'Zenbook UX430UA' 'Spin 5' 'X541UV-DM1439T (i3-7100U/6GB/256GB/GeForce'\n",
            " 'Omen 15-ce007nv' '15-bs017nv (i7-7500U/8GB/256GB/Radeon'\n",
            " '15-bw000nv (E2-9000e/4GB/500GB/Radeon' 'Envy 13-ad009n'\n",
            " 'Pavilion 14-BK001nv' 'Ideapad 310-15ISK'\n",
            " 'UX430UQ-GV209R (i7-7500U/8GB/256GB/GeForce' 'GP62M 7REX' 'Thinkpad T470'\n",
            " 'VivoBook S15' 'ThinkPad Yoga' 'Probook 440' 'Spectre x360'\n",
            " 'Inspiron 7570' 'X705UV-BX074T (i3-6006U/4GB/1TB/GeForce' 'Spin 3'\n",
            " 'GS63VR 7RG' 'Probook 470' 'E402WA-GA007T (E2-6110/4GB/64GB/W10'\n",
            " 'Inspiron 5567' 'Aspire A515-51G-37JS'\n",
            " '15-BS078nr (i7-7500U/8GB/1TB/W10)' 'V110-15IAP (N3350/4GB/1TB/No'\n",
            " 'FX753VD-GC086T (i5-7300HQ/8GB/1TB' 'Envy 13-AD007nv' 'ThinkPad E480'\n",
            " 'Satellite Pro' 'ZenBook UX430UA' 'EliteBook Folio'\n",
            " 'X541NA (N3350/4GB/1TB/FHD/W10)' 'GE72MVR 7RG' 'Aspire A315-51'\n",
            " 'Inspiron 5577' 'Inspiron 7567' 'V110-15IKB (i5-7200U/4GB/128GB/W10)'\n",
            " 'GE73VR 7RE' 'EliteBook 840' '15-BS103nv (i5-8250U/6GB/256GB/Radeon'\n",
            " 'Yoga 520-14IKB' 'ZenBook Flip' 'Inspiron 5579'\n",
            " 'X555BP-XX180T (A9-9420/4GB/1TB/Radeon' 'Aspire A517-51G'\n",
            " 'Aspire A315-31' 'GE63VR 7RE' 'MateBook X'\n",
            " '17-bs001nv (i5-7200U/6GB/2TB/Radeon' 'GT80S 6QF-074US'\n",
            " 'V310-15IKB (i5-7200U/8GB/1TB' 'Yoga 920-13IKB' 'Mi Notebook' 'XPS 15'\n",
            " 'Swift 7' 'Thinkpad Yoga' 'K147 (N3350/4GB/32GB/FHD/W10)'\n",
            " 'IdeaPad 320-17IKBR' 'Blade Pro' 'Omen 17-W295'\n",
            " 'V110-15ISK (i5-6200U/4GB/128GB/W10)' 'Aspire E5-576G'\n",
            " 'Legion Y720-15IKB' 'Precision 7520' 'Aspire 7' 'ROG GL703VD-GC028T'\n",
            " '15-bs018nq (i3-6006U/4GB/500GB/FHD/No' 'IdeaPad 320-17IKB'\n",
            " 'Latitude 5490' 'Portege Z30-C-16L' 'Alienware 17'\n",
            " 'Vivobook X541UV-DM1217T' 'K756UX-T4340T (i5-7200U/8GB/500GB' 'ZBook 15u'\n",
            " 'Pro P2540UA-XO0198T' '15-rb013nv (E2-9000e/4GB/500GB/W10)' 'Vostro 5468'\n",
            " 'Aspire R7' 'X555QG-DM242T (A10-9620P/4GB/1TB' 'ROG G703VI-E5062T'\n",
            " 'Nitro AN515-51' 'VivoBook Pro' 'F756UX-T4201D (i7-7500U/8GB/128GB'\n",
            " 'Yoga 910-13IKB' '15-bs015dx (i5-7200U/8GB/1TB/W10)' 'Rog G701VIK-BA060T'\n",
            " 'ROG G752VSK-GC493T' 'X505BP-BR019T (A9-9420/4GB/1TB/Radeon'\n",
            " 'Vostro 5370' '15-BW094nd (A6-9220/8GB/128GB/W10)' 'Envy 17-U275cl'\n",
            " 'GT73EVR 7RE' 'Yoga 720-15IKB' 'Vostro 3568'\n",
            " 'V330-15IKB (i7-8550U/8GB/256GB/FHD/W10)' 'ThinkPad X1'\n",
            " 'IdeaPad 320-17ISK' 'Ideapad 320-15IKBN'\n",
            " 'SP315-51 (i7-7500U/12GB/1TB/FHD/W10)' 'Thinkpad T570'\n",
            " 'Chromebook C910-C2ST' 'FX753VD-GC071T (i7-7700HQ/8GB/1TB/GeForce'\n",
            " '17-BS037cl (i3-6006U/8GB/1TB/W10)'\n",
            " 'V330-15IKB (i5-8250U/8GB/256GB/FHD/W10)' 'Aspire A715-71G'\n",
            " 'Precision 7720' 'IdeaPad 310-15ABR' 'ZenBook UX530UQ-PRO' 'VivoBook S14'\n",
            " 'Rog GL702VS-GC095T' 'GL553VE-FY082T (i7-7700HQ/8GB/1TB'\n",
            " 'IdeaPad 320-15IAP' 'EliteBook x360' 'IdeaPad 720S-13IKB' 'GE63VR 7RF'\n",
            " 'ES1-523-84K7 (A8-7410/8GB/256GB/FHD/W10)' 'VivoBook Flip' 'ThinkPad 13'\n",
            " 'ProBook 640' 'TravelMate B' 'Elitebook 840' 'ZenBook UX410UA-GV183T'\n",
            " 'Aspire E5-575' 'Elitebook 820' 'GL72M 7REX'\n",
            " 'UX510UX-CN269T (i7-7500U/8GB/256GB'\n",
            " 'V310-15ISK (i3-6006U/4GB/1TB/FHD/W10)'\n",
            " 'FX553VD-FY647T (i7-7700HQ/8GB/256GB/GeForce' 'Elitebook 850'\n",
            " 'X541NA (N3350/4GB/1TB/Linux)' 'Inspiron 3552' 'IdeaPad 320-15ABR'\n",
            " 'Stream 14-AX001nv' 'GP72MVR 7RFX' 'Zbook 15' 'Tecra A50-C-21G'\n",
            " 'Latitude 7480' 'Zenbook UX410UA-GV027T' '15-AY023na (N3710/8GB/2TB/W10)'\n",
            " 'Elitebook 1040' 'IdeaPad 110-17ACL'\n",
            " '15-bw003nv (A9-Series-9420/4GB/256GB/FHD/W10)' 'Yoga 11e'\n",
            " 'VivoBook E403NA' 'Omen 17-w212nv'\n",
            " 'V310-15ISK (i3-6006U/4GB/128GB/FHD/No' 'ROG Strix' 'IdeaPad 720S-14IKB'\n",
            " 'Zenbook Flip' 'Thinkpad X1' 'Ideapad 510S-13IKB' 'Precision 3510'\n",
            " 'Precision 5520' 'Rog GL753VD-GC042T' 'Rog GL753VE-GC070T'\n",
            " 'Leopard GP72M' '15-BW004nv (A9-9420/4GB/256GB/Radeon' 'ThinkPad E580'\n",
            " 'ThinkPad L470' 'Precision M5520' 'FX753VD-GC461T (i7-7700HQ/16GB/1TB'\n",
            " 'GE73VR 7RF' 'Zenbook 3' 'Portege Z30-C-16P' 'Lenovo IdeaPad'\n",
            " 'ThinkPad P51' 'Thinkpad T470p' '15-BS028nv (i3-6006U/4GB/1TB/Radeon'\n",
            " 'Latitude 3380' 'EliteBook 1040' 'LapBook 12.3' 'ProBook 650'\n",
            " 'X542UQ-DM117 (i3-7100U/8GB/1TB/GeForce' 'Latitude 5480' 'Omen 17-w207nv'\n",
            " 'FlexBook Edge' 'Chromebook 3' 'Thinkpad 13' 'IdeaPad 320s-14IKB'\n",
            " 'Thinkpad P51' '15-ra044nv (N3060/4GB/500GB/W10)' 'Pixelbook (Core'\n",
            " 'ThinkPad T470s' 'ThinkPad X270' 'Omen 15-AX205na' 'Aspire ES1-572'\n",
            " 'Precision 3520' 'GV62 7RD-1686NL' '15-bs024nv (i5-7200U/8GB/128GB/W10)'\n",
            " 'ThinkPad T470' 'Inspiron 3168' '17-BS092ND (i3-6006U/8GB/256GB/W10)'\n",
            " 'Pro P2540UA-AB51' 'IdeaPad 510s-14IKB'\n",
            " 'X541NA-PD1003Y (N4200/4GB/500GB/W10)' 'Omen 17-an006nv' 'Thinkpad T460s'\n",
            " 'Latitude 7390' 'Latitude E5470' 'Portege X30-D-10J' 'Lapbook 15,6'\n",
            " 'ThinkPad E570' 'Thinkpad X270' 'Zenbook UX390UA' 'Thinkpad E570'\n",
            " 'Portege X30-D-10L' 'Rog G752VL-UH71T' 'Thinkpad X260'\n",
            " 'Ideapad 520-15IKBR' 'ThinkPad L570' 'VivoBook E201NA'\n",
            " '15-BS026nv (i5-7200U/8GB/256GB/Radeon' 'IdeaPad 320-14IAP'\n",
            " 'Chromebook N23' 'ZenBook UX510UX-CN211T' 'Aspire A515-51G-59QF'\n",
            " 'Envy 13-AB002nv' 'Vostro 5568' 'VivoBook E12'\n",
            " '15-bs190od (i5-8250U/4GB/1TB/W10)' 'ROG Zephyrus' 'Probook 450'\n",
            " 'FX753VE-GC155T (i7-7700HQ/16GB/1TB' 'Spectre X360' 'Latitude 5580'\n",
            " 'Zenbook UX510UW-FI095T' 'SmartBook Edge' 'Omen 15-ce006nv'\n",
            " 'Thinkpad E470' 'Envy 13-AB020nr' 'VivoBook X540YA-XX519T'\n",
            " 'ThinkPad E470' 'V310-15ISK (i5-6200U/4GB/1TB/FHD/No' 'ThinkPad T570'\n",
            " '17-X047na (i3-6006U/8GB/1TB/W10)' 'A541NA-GO342 (N3350/4GB/500GB/Linux)'\n",
            " 'SmartBook 130' '15-bw007nv (A10-9620P/6GB/128GB/Radeon' 'Spin SP111-31'\n",
            " 'V330-15IKB (i3-7130U/4GB/128GB/FHD/W10)' 'EliteBook 1030' 'Thinkpad P71'\n",
            " 'FX553VD-DM627T (i5-7300HQ/8GB/1TB' 'Lifebook A557' 'ZBook 17'\n",
            " '14-am079na (N3710/8GB/2TB/W10)' '15-cd005nv (A9-9420/6GB/256GB/Radeon'\n",
            " 'V330-15IKB (i5-8250U/4GB/500GB/FHD/W10)' 'SmartBook 141'\n",
            " 'Tecra X40-D-10H' 'IdeaPad Y910-17ISK' 'GT73VR Titan' 'Chromebook 11'\n",
            " 'GT80S 6QE' 'Omen 17-AN010nv' 'Ideapad 320-15IKBR'\n",
            " 'TP501UA-CJ131T (i5-7200U/8GB/1TB/W10)' 'Inspiron 3179'\n",
            " 'Notebook Odyssey' 'V320-17ISK (i3-6006U/4GB/500GB/FHD/No'\n",
            " 'IdeaPad 110-15ISK' 'Latitude 5289' 'EliteBook 850' 'Aspire 1'\n",
            " 'Laptop MSI' 'GS63VR 7RF' 'Tecra Z50-C-144' 'IdeaPad 310-15IKB'\n",
            " 'Swift SF114-31-P5HY' 'Inspiron 7559' 'FX753VD-GC007T (i7-7700HQ/8GB/1TB'\n",
            " 'GT62VR 7RE' 'CB5-132T-C9KK (N3160/4GB/32GB/Chrome' 'LifeBook A557'\n",
            " 'SmartBook 140' 'Q304UA-BHI5T11 (i5-7200U/6GB/1TB/FHD/W10)' 'ZenBook 3'\n",
            " 'V330-15IKB (i5-8250U/4GB/256GB/FHD/W10)' 'Ideapad 320-15ISK'\n",
            " 'X541NA-GO414T (N3350/8GB/1TB/W10)' 'IdeaPad 100S-14IBR'\n",
            " '17-AK091ND (A9-9420/8GB/1TB/W10)' 'ROG GL553VE-FY022' 'Extensa EX2540'\n",
            " 'Portege Z30-C-16J' 'ROG G701VI'\n",
            " 'A715-71G-59DH (i5-7300HQ/8GB/1TB/GeForce' 'GL62M 7REX' 'Tecra A50-D-11M'\n",
            " 'IdeaPad Y700-15ISK' 'Latitude E7470' 'Ideapad 320-15IAP'\n",
            " '15-ay047nv (i3-6006U/6GB/1TB/Radeon' 'GP72VR Leopard' 'Latitude 3580'\n",
            " '15-bs012nv (i7-7500U/8GB/1TB/Radeon' 'Tecra Z50-D-10E'\n",
            " 'V310-15ISK (i5-7200U/8GB/1TB' 'Yoga 720-13IKB' 'Pavilion X360'\n",
            " 'GP62 7RDX' 'Chromebook X360' 'Gram 15Z975' 'Aspire VX5-591G' 'GV62M 7RD'\n",
            " 'L502NA-GO052T (N3350/4GB/128GB/W10)' 'Alienware 15' '17-bs000nv I3'\n",
            " 'Yoga 730' '17-Y002nv (A10-9600P/6GB/2TB/Radeon'\n",
            " 'V110-15ISK (3855U/4GB/500GB/W10)' 'Chromebook 14' 'IdeaPad 520s-14IKB'\n",
            " 'TravelMate B117-M' 'Chromebook Flip' 'Portege Z30T-C-133'\n",
            " '15-bs011nv (i7-7500U/4GB/500GB/Radeon'\n",
            " 'V310-15IKB (i5-7200U/4GB/1TB/FHD/W10)'\n",
            " 'V310-15ISK (i3-6006U/4GB/500GB/No' 'ThinkPad P51s' 'Thinkpad T460p'\n",
            " '17-ak002nv (A10-9620P/6GB/2TB/Radeon'\n",
            " '110-15ACL (A6-7310/4GB/500GB/W10)' 'Smartbook 142'\n",
            " 'V310-15IKB (i5-7200U/4GB/1TB/No' 'Inspiron 5378'\n",
            " '15-BW037na (A9-9420/4GB/1TB/Radeon' 'Predator 17'\n",
            " '15-BW091ND (A9-9420/6GB/1TB' 'Extensa EX2540-58KR'\n",
            " 'V310-15IKB (i7-7500U/4GB/1TB/FHD/W10)' 'ZBook 15' 'Inspiron 7560'\n",
            " 'Tecra X40-D-10G' 'Flex 5' 'Thinkpad P51s' 'Notebook 9' 'Zbook 17'\n",
            " 'N23 (N3060/4GB/128GB/W10)' 'X550VX-XX015D (i5-6300HQ/4GB/1TB/GeForce'\n",
            " 'Thinkpad T460' 'Pro P2540UA-XO0192R' 'Yoga 900-13ISK'\n",
            " '15-cb003na (i5-7300HQ/8GB/1TB' 'Latitude 7280' 'Zenbook UX330UA-AH5Q'\n",
            " 'TravelMate P238-M' 'X751NV-TY001 (N4200/4GB/1TB/GeForce'\n",
            " 'Tecra A40-C-1E5' 'EliteBook 820'\n",
            " 'Q524UQ-BHI7T15 (i7-7500U/12GB/2TB/GeForce' 'Thinkpad P50' 'Vivobook Max'\n",
            " 'Rog G752VS-BA171T' 'Tecra Z40-C-161' 'IdeaPad 110-15IBR' 'GS43VR 7RE'\n",
            " 'GL62M (i5-7300HQ/8GB/1TB' 'Predator G9-793'\n",
            " 'FX502VM-DM560T (i7-7700HQ/8GB/1TB' 'K146 (N3350/4GB/32GB/W10)'\n",
            " 'Yoga 510-15IKB' 'R417NA-RS01 (N3350/4GB/32GB/W10)' 'Pro P2540UA-XS51'\n",
            " 'Latitude 3180' '15-ba043na (A12-9700P/8GB/2TB/W10)' 'Omen 17-an012dx'\n",
            " 'Thinkpad T470s' 'Blade Stealth' 'Latitude 3480'\n",
            " 'V110-15ISK (i3-6006U/4GB/500GB/W10)' 'Tecra X40-D-10Z' 'GL62M 7RD'\n",
            " 'Rog GL702VS-BA023T' 'N42-20 Chromebook'\n",
            " 'R558UA-DM966T (i5-7200U/8GB/128GB/FHD/W10)' 'Rog GL702VM-GC017T'\n",
            " 'ZenBook UX310UQ-GL026T' 'Rog GL502VM-DS74' 'Inspiron 5767'\n",
            " 'ThinkPad T470p' 'K556UR-DM621T (i7-7500U/8GB/256GB/GeForce'\n",
            " 'X541NA (N4200/4GB/1TB/W10)' 'Inspiron 5368' 'Portege X30-D-10X'\n",
            " 'Portégé Z30-C-188' 'TMX349-G2-M-50FS (i5-7200U/8GB/256GB/FHD/W10)'\n",
            " 'Tecra A50-D-11D' 'X541NA-GO121 (N4200/4GB/1TB/Linux)' 'Pavilion x360'\n",
            " 'VivoBook L402NA' 'IdeaPad 510-15ISK' 'Rog GL753VD-GC082T'\n",
            " 'Chromebook C731-C78G' 'Probook 640' 'Envy x360' 'GS73VR Stealth'\n",
            " 'Portege X30-D-10V' 'G701VO-IH74K (i7-6820HK/32GB/2x' 'Gram 15Z970'\n",
            " 'Chromebook CB5-571-C1DZ' 'Gram 14Z970' 'Elitebook Folio'\n",
            " 'IdeaPad 510-15IKB' 'GE72VR 6RF' 'Envy 13-AB077cl' 'Tecra Z50-C-140'\n",
            " 'Probook 650' 'Tecra Z40-C-12X' 'GP62M Leopard' 'Omen 17-W006na'\n",
            " 'X751SV-TY001T (N3710/4GB/1TB/GeForce' 'TravelMate P259-G2'\n",
            " 'Tecra A50-C-1ZV' 'Yoga 700-11ISK' 'IdeaPad Y700-15ACZ' 'Insprion 5767'\n",
            " 'ZBook Studio' 'Portege Z30-C-1CW' 'ProBook x360' 'Chromebook C738T-C2EJ'\n",
            " 'Portege Z30-C-16Z' 'Aspire F5-573G-510L' 'Portege X20W-D-10V'\n",
            " 'Tecra A40-C-1DF' 'ThinkPad T460' 'Q534UX-BHI7T19 (i7-7500U/16GB/2TB'\n",
            " '15-bs053od (i7-7500U/6GB/1TB/W10)' 'Rog GL753VE-DS74' 'Inspiron 7579'\n",
            " 'Portege Z30-C-1CV' 'LifeBook A556' 'Tecra A40-C-1KF'\n",
            " '15-bs005nv (i3-6006U/4GB/1TB' 'V110-15IAP (N3350/4GB/128GB/No'\n",
            " 'ThinkPad T560' 'ZenBook UX310UA-FB485T' 'Spectre 13-V111dx'\n",
            " 'Aspire ES1-533' 'Rog GL553VE-DS74' 'Nitro 5' 'ENVY -'\n",
            " 'Portege Z30-C-16H' 'Portege A30-C-1CZ' 'ThinkPad P70' 'Tecra Z40-C-12Z'\n",
            " 'Inspiron 5568' 'Portégé Z30-C-16K' 'Spectre 13-V100nv' 'Latitude E5570'\n",
            " 'Tecra Z40-C-136' 'Yoga 500-15ISK' 'V142 (X5-Z8350/2GB/32GB/W10)'\n",
            " 'Tecra A50-C-218' 'Thinkpad L560' 'GT72S Dominator' 'IdeaPad Y900-17ISK'\n",
            " 'Chromebook C202SA' 'Noteb Pav' 'Inspiron 5578' '250 G5' 'Aspire ES1-523'\n",
            " 'Inspiron 7378' 'GT62VR 6RD' 'Rog G752VL-GC088D' 'GS63VR 6RF'\n",
            " 'ROG G701VO' 'Latitude 3570' 'IdeaPad 300-17ISK' 'Ideapad 700-15ISK'\n",
            " 'GT72VR Dominator' 'V110-15ISK (i5-6200U/4GB/500GB/W10)'\n",
            " 'Yoga 900S-12ISK' 'Chromebook 13' 'Rog GL702VM-GC354T' 'Aspire F5-573G'\n",
            " 'GS70 Stealth' 'G752VY-GC162T (i7-6700HQ/16GB/1TB' 'Latitude E5270'\n",
            " 'Chromebook 15' 'GE72 Apache' '15-bw011nv (A6-9220/4GB/1TB/FHD/W10)'\n",
            " 'Rog GL552VW-CN470T' 'Vostro 3559' 'V110-15ISK (i3-6006U/4GB/128GB/W10)'\n",
            " 'Spectre Pro' 'Portege X30-D-10K' 'Rog GL752VW-T4308T'\n",
            " 'V131 (X5-Z8350/4GB/32GB/FHD/W10)' 'Omen -'\n",
            " '15-bs078cl (i7-7500U/8GB/2TB/W10)' 'ThinkPad P40'\n",
            " 'L403NA-GA013TS (N3350/4GB/32GB/W10)' 'IdeaPad 500-15ISK' 'GP62M 7RDX'\n",
            " 'V110-15ISK (i3-6006U/4GB/1TB/No' '15-BA015wm (E2-7110/4GB/500GB/W10)'\n",
            " 'B51-80 (i5-6200U/8GB/1TB/Radeon' '15-bw002nv (A6-9220/4GB/256GB/Radeon'\n",
            " 'GP72M 7REX' 'ThinkPad T460s' 'B51-80 (i5-6200U/8GB/1008GB/Radeon'\n",
            " 'GS40 Phantom' 'Pavilion 15-cb003nv' 'IdeaPad 310-15ISK' '250 G4'\n",
            " '320-15ISK (i3-6006U/4GB/1TB/GeForce' 'Stream 14-AX000nv' 'PL60 7RD'\n",
            " 'X553SA-XX021T (N3050/4GB/500GB/W10)' 'V110-15ISK (i5-6200U/4GB/500GB/No'\n",
            " 'UX410UA-GV097T (i3-7100U/4GB/256GB/FHD/W10)'\n",
            " 'B51-80 (i7-6500U/4GB/1008GB/FHD/W7)' 'GS60 Ghost' 'Pavilion 15-BC000nv'\n",
            " 'Rog GL552VW-DM201T' 'Chromebook Plus' 'Pavilion Power'\n",
            " 'V110-15ISK (i3-6006U/4GB/1TB/Radeon' 'Rog G752VY-GC229T' 'GS73VR 7RF'\n",
            " 'FX502VM-DM105T (i7-6700HQ/8GB/1TB/GeForce'\n",
            " '15-bs025nv (i5-7200U/8GB/256GB/W10)' 'Aspire E5-774G'\n",
            " 'FX502VM-AS73 (i7-7700HQ/16GB/1TB' 'C740-C9QX (3205U/2GB/32GB/Chrome'\n",
            " 'E5 774G' 'SP714-51 (i7-7Y75/8GB/256GB/FHD/W10)' 'Thinkpad T560'\n",
            " 'GP62MVR 6RF' '15-bw009nv (A12-9720P/6GB/1TB/Radeon' 'Latitude E7270'\n",
            " 'X540SA-RBPDN09 (N3710/4GB/1TB/W10)' 'GL62M 7RDX' 'GE72VR Apache'\n",
            " '15-bs023nv (i3-6006U/4GB/1TB/FHD/W10)' 'GL62 6QF' 'ZenBook UX310UA-WB71'\n",
            " 'Inspiron 7779' 'Rog GL553VE-FY052T' 'Rog GL502VS'\n",
            " 'V510-15IKB (i5-7200U/8GB/256GB/FHD/No' 'ThinkPad L460'\n",
            " 'X541NA-GO020T (N3350/4GB/1TB/W10)' 'Rog G752VT-GC073T'\n",
            " 'B51-80 (i7-6500U/8GB/1008GB/Radeon' 'GE62 Apache' 'Yoga 500-14IBD'\n",
            " 'ZenBook UX305CA-UBM1' 'Aspire ES1-531' 'Pavilion 15-AW003nv'\n",
            " 'Stream 11-Y000na' 'X556UJ-XO044T (i7-6500U/4GB/500GB/GeForce'\n",
            " 'Yoga 500-14ISK' '15-AC110nv (i7-6500U/6GB/1TB/Radeon'\n",
            " 'X553SA-XX031T (N3050/4GB/500GB/W10)']\n",
            "618\n"
          ]
        }
      ]
    },
    {
      "cell_type": "markdown",
      "source": [
        "In products column there are 618 types of products and it's all like names so I have decided to drop this column"
      ],
      "metadata": {
        "id": "6MQiQw1fKl8O"
      }
    },
    {
      "cell_type": "code",
      "source": [
        "df=df.drop(\"Product\",axis=1)"
      ],
      "metadata": {
        "id": "2uubCKINK32r"
      },
      "execution_count": 73,
      "outputs": []
    },
    {
      "cell_type": "code",
      "source": [
        "df.TypeName.value_counts()"
      ],
      "metadata": {
        "colab": {
          "base_uri": "https://localhost:8080/"
        },
        "id": "yxPj3jL6K84_",
        "outputId": "5ae8e707-da03-42d0-8296-3a94383654cb"
      },
      "execution_count": 74,
      "outputs": [
        {
          "output_type": "execute_result",
          "data": {
            "text/plain": [
              "Notebook              727\n",
              "Gaming                205\n",
              "Ultrabook             196\n",
              "2 in 1 Convertible    121\n",
              "Workstation            29\n",
              "Netbook                25\n",
              "Name: TypeName, dtype: int64"
            ]
          },
          "metadata": {},
          "execution_count": 74
        }
      ]
    },
    {
      "cell_type": "code",
      "source": [
        "df.ScreenResolution.unique()"
      ],
      "metadata": {
        "colab": {
          "base_uri": "https://localhost:8080/"
        },
        "id": "5I-sgaviLKqo",
        "outputId": "02dca5ac-705b-4138-c760-c0c87f169ef5"
      },
      "execution_count": 95,
      "outputs": [
        {
          "output_type": "execute_result",
          "data": {
            "text/plain": [
              "array(['IPS Panel Retina Display 2560x1600', '1440x900',\n",
              "       'Full HD 1920x1080', 'IPS Panel Retina Display 2880x1800',\n",
              "       '1366x768', 'IPS Panel Full HD 1920x1080',\n",
              "       'IPS Panel Retina Display 2304x1440',\n",
              "       'IPS Panel Full HD / Touchscreen 1920x1080',\n",
              "       'Full HD / Touchscreen 1920x1080',\n",
              "       'Touchscreen / Quad HD+ 3200x1800',\n",
              "       'IPS Panel Touchscreen 1920x1200', 'Touchscreen 2256x1504',\n",
              "       'Quad HD+ / Touchscreen 3200x1800', 'IPS Panel 1366x768',\n",
              "       'IPS Panel 4K Ultra HD / Touchscreen 3840x2160',\n",
              "       'IPS Panel Full HD 2160x1440',\n",
              "       '4K Ultra HD / Touchscreen 3840x2160', 'Touchscreen 2560x1440',\n",
              "       '1600x900', 'IPS Panel 4K Ultra HD 3840x2160',\n",
              "       '4K Ultra HD 3840x2160', 'Touchscreen 1366x768',\n",
              "       'IPS Panel Full HD 1366x768', 'IPS Panel 2560x1440',\n",
              "       'IPS Panel Full HD 2560x1440',\n",
              "       'IPS Panel Retina Display 2736x1824', 'Touchscreen 2400x1600',\n",
              "       '2560x1440', 'IPS Panel Quad HD+ 2560x1440',\n",
              "       'IPS Panel Quad HD+ 3200x1800',\n",
              "       'IPS Panel Quad HD+ / Touchscreen 3200x1800',\n",
              "       'IPS Panel Touchscreen 1366x768', '1920x1080',\n",
              "       'IPS Panel Full HD 1920x1200',\n",
              "       'IPS Panel Touchscreen / 4K Ultra HD 3840x2160',\n",
              "       'IPS Panel Touchscreen 2560x1440',\n",
              "       'Touchscreen / Full HD 1920x1080', 'Quad HD+ 3200x1800',\n",
              "       'Touchscreen / 4K Ultra HD 3840x2160',\n",
              "       'IPS Panel Touchscreen 2400x1600'], dtype=object)"
            ]
          },
          "metadata": {},
          "execution_count": 95
        }
      ]
    },
    {
      "cell_type": "code",
      "source": [
        "df.Memory.value_counts()"
      ],
      "metadata": {
        "colab": {
          "base_uri": "https://localhost:8080/"
        },
        "id": "9hl2uAcMb7Ci",
        "outputId": "a666f4b6-ff85-4a54-a42c-89c80ee987e3"
      },
      "execution_count": 96,
      "outputs": [
        {
          "output_type": "execute_result",
          "data": {
            "text/plain": [
              "256GB SSD                        412\n",
              "1TB HDD                          223\n",
              "500GB HDD                        132\n",
              "512GB SSD                        118\n",
              "128GB SSD +  1TB HDD              94\n",
              "128GB SSD                         76\n",
              "256GB SSD +  1TB HDD              73\n",
              "32GB Flash Storage                38\n",
              "2TB HDD                           16\n",
              "64GB Flash Storage                15\n",
              "512GB SSD +  1TB HDD              14\n",
              "1TB SSD                           14\n",
              "256GB SSD +  2TB HDD              10\n",
              "1.0TB Hybrid                       9\n",
              "256GB Flash Storage                8\n",
              "16GB Flash Storage                 7\n",
              "32GB SSD                           6\n",
              "180GB SSD                          5\n",
              "128GB Flash Storage                4\n",
              "512GB SSD +  2TB HDD               3\n",
              "16GB SSD                           3\n",
              "512GB Flash Storage                2\n",
              "1TB SSD +  1TB HDD                 2\n",
              "256GB SSD +  500GB HDD             2\n",
              "128GB SSD +  2TB HDD               2\n",
              "256GB SSD +  256GB SSD             2\n",
              "512GB SSD +  256GB SSD             1\n",
              "512GB SSD +  512GB SSD             1\n",
              "64GB Flash Storage +  1TB HDD      1\n",
              "1TB HDD +  1TB HDD                 1\n",
              "32GB HDD                           1\n",
              "64GB SSD                           1\n",
              "128GB HDD                          1\n",
              "240GB SSD                          1\n",
              "8GB SSD                            1\n",
              "508GB Hybrid                       1\n",
              "1.0TB HDD                          1\n",
              "512GB SSD +  1.0TB Hybrid          1\n",
              "256GB SSD +  1.0TB Hybrid          1\n",
              "Name: Memory, dtype: int64"
            ]
          },
          "metadata": {},
          "execution_count": 96
        }
      ]
    },
    {
      "cell_type": "code",
      "source": [
        "df.Ram.value_counts()"
      ],
      "metadata": {
        "colab": {
          "base_uri": "https://localhost:8080/"
        },
        "id": "w3Y3YgeBLKn7",
        "outputId": "bff61ee1-6150-45d2-fc2f-ad482089026d"
      },
      "execution_count": 99,
      "outputs": [
        {
          "output_type": "execute_result",
          "data": {
            "text/plain": [
              "8     619\n",
              "4     375\n",
              "16    200\n",
              "6      41\n",
              "12     25\n",
              "2      22\n",
              "32     17\n",
              "24      3\n",
              "64      1\n",
              "Name: Ram, dtype: int64"
            ]
          },
          "metadata": {},
          "execution_count": 99
        }
      ]
    },
    {
      "cell_type": "code",
      "source": [
        "df.Ram.value_counts()"
      ],
      "metadata": {
        "colab": {
          "base_uri": "https://localhost:8080/"
        },
        "id": "PpkfuE11Lf29",
        "outputId": "18ad6c8f-365a-465f-e525-6a65a394600d"
      },
      "execution_count": 105,
      "outputs": [
        {
          "output_type": "execute_result",
          "data": {
            "text/plain": [
              "8GB     619\n",
              "4GB     375\n",
              "16GB    200\n",
              "6GB      41\n",
              "12GB     25\n",
              "2GB      22\n",
              "32GB     17\n",
              "24GB      3\n",
              "64GB      1\n",
              "Name: Ram, dtype: int64"
            ]
          },
          "metadata": {},
          "execution_count": 105
        }
      ]
    },
    {
      "cell_type": "code",
      "source": [
        "df.Gpu.value_counts()"
      ],
      "metadata": {
        "colab": {
          "base_uri": "https://localhost:8080/"
        },
        "id": "xAz87JHuL030",
        "outputId": "23885a6d-bac6-431a-dd29-95d7629eea4e"
      },
      "execution_count": 78,
      "outputs": [
        {
          "output_type": "execute_result",
          "data": {
            "text/plain": [
              "Intel HD Graphics 620      281\n",
              "Intel HD Graphics 520      185\n",
              "Intel UHD Graphics 620      68\n",
              "Nvidia GeForce GTX 1050     66\n",
              "Nvidia GeForce GTX 1060     48\n",
              "                          ... \n",
              "AMD Radeon R5 520            1\n",
              "AMD Radeon R7                1\n",
              "Intel HD Graphics 540        1\n",
              "AMD Radeon 540               1\n",
              "ARM Mali T860 MP4            1\n",
              "Name: Gpu, Length: 110, dtype: int64"
            ]
          },
          "metadata": {},
          "execution_count": 78
        }
      ]
    },
    {
      "cell_type": "code",
      "source": [
        "df.OpSys.value_counts()"
      ],
      "metadata": {
        "colab": {
          "base_uri": "https://localhost:8080/"
        },
        "id": "gkhLbNy7MPyb",
        "outputId": "3105a454-42bd-4739-d2b2-b60951d60b8f"
      },
      "execution_count": 79,
      "outputs": [
        {
          "output_type": "execute_result",
          "data": {
            "text/plain": [
              "Windows 10      1072\n",
              "No OS             66\n",
              "Linux             62\n",
              "Windows 7         45\n",
              "Chrome OS         27\n",
              "macOS             13\n",
              "Mac OS X           8\n",
              "Windows 10 S       8\n",
              "Android            2\n",
              "Name: OpSys, dtype: int64"
            ]
          },
          "metadata": {},
          "execution_count": 79
        }
      ]
    },
    {
      "cell_type": "code",
      "source": [
        "company_sales=df.groupby(\"Company\").sum().sort_values(by='Price_euros', ascending = False)\n",
        "plt.figure(figsize=(15,5))\n",
        "plt.xticks(rotation=65)\n",
        "sns.barplot(data=company_sales,x=company_sales.index,y=\"Price_euros\")"
      ],
      "metadata": {
        "colab": {
          "base_uri": "https://localhost:8080/",
          "height": 392
        },
        "id": "lYeNBnFJWvNU",
        "outputId": "6b54a08f-b016-439e-e823-452753735784"
      },
      "execution_count": 80,
      "outputs": [
        {
          "output_type": "execute_result",
          "data": {
            "text/plain": [
              "<matplotlib.axes._subplots.AxesSubplot at 0x7f65945f6c10>"
            ]
          },
          "metadata": {},
          "execution_count": 80
        },
        {
          "output_type": "display_data",
          "data": {
            "text/plain": [
              "<Figure size 1080x360 with 1 Axes>"
            ],
            "image/png": "[encoded data removed]"
          },
          "metadata": {
            "needs_background": "light"
          }
        }
      ]
    },
    {
      "cell_type": "code",
      "source": [
        "sales_ram=df.Ram.value_counts()"
      ],
      "metadata": {
        "id": "dTVau-uiZckL"
      },
      "execution_count": 81,
      "outputs": []
    },
    {
      "cell_type": "code",
      "source": [
        "plt.figure(figsize=(20,5))\n",
        "yo=sales_ram.plot(kind='pie', figsize=(10, 10))"
      ],
      "metadata": {
        "colab": {
          "base_uri": "https://localhost:8080/",
          "height": 575
        },
        "id": "Y2PHUHasYQd9",
        "outputId": "07d97f13-c630-4338-a685-652f833f8b99"
      },
      "execution_count": 82,
      "outputs": [
        {
          "output_type": "display_data",
          "data": {
            "text/plain": [
              "<Figure size 720x720 with 1 Axes>"
            ],
            "image/png": "[encoded data removed]"
          },
          "metadata": {}
        }
      ]
    },
    {
      "cell_type": "code",
      "source": [
        "df.head()"
      ],
      "metadata": {
        "colab": {
          "base_uri": "https://localhost:8080/",
          "height": 336
        },
        "id": "8ndfzsRaackK",
        "outputId": "f188e8ae-5bb0-4baa-f6c1-a06af92e85d4"
      },
      "execution_count": 83,
      "outputs": [
        {
          "output_type": "execute_result",
          "data": {
            "text/plain": [
              "   laptop_ID Company   TypeName  Inches                    ScreenResolution  \\\n",
              "0          1   Apple  Ultrabook    13.3  IPS Panel Retina Display 2560x1600   \n",
              "1          2   Apple  Ultrabook    13.3                            1440x900   \n",
              "2          3      HP   Notebook    15.6                   Full HD 1920x1080   \n",
              "3          4   Apple  Ultrabook    15.4  IPS Panel Retina Display 2880x1800   \n",
              "4          5   Apple  Ultrabook    13.3  IPS Panel Retina Display 2560x1600   \n",
              "\n",
              "                          Cpu   Ram               Memory  \\\n",
              "0        Intel Core i5 2.3GHz   8GB            128GB SSD   \n",
              "1        Intel Core i5 1.8GHz   8GB  128GB Flash Storage   \n",
              "2  Intel Core i5 7200U 2.5GHz   8GB            256GB SSD   \n",
              "3        Intel Core i7 2.7GHz  16GB            512GB SSD   \n",
              "4        Intel Core i5 3.1GHz   8GB            256GB SSD   \n",
              "\n",
              "                            Gpu  OpSys  Weight  Price_euros  \n",
              "0  Intel Iris Plus Graphics 640  macOS  1.37kg      1339.69  \n",
              "1        Intel HD Graphics 6000  macOS  1.34kg       898.94  \n",
              "2         Intel HD Graphics 620  No OS  1.86kg       575.00  \n",
              "3            AMD Radeon Pro 455  macOS  1.83kg      2537.45  \n",
              "4  Intel Iris Plus Graphics 650  macOS  1.37kg      1803.60  "
            ],
            "text/html": [
              "\n",
              "  <div id=\"df-66c212a1-04e3-49ac-b1df-c7456e3c5433\">\n",
              "    <div class=\"colab-df-container\">\n",
              "      <div>\n",
              "<style scoped>\n",
              "    .dataframe tbody tr th:only-of-type {\n",
              "        vertical-align: middle;\n",
              "    }\n",
              "\n",
              "    .dataframe tbody tr th {\n",
              "        vertical-align: top;\n",
              "    }\n",
              "\n",
              "    .dataframe thead th {\n",
              "        text-align: right;\n",
              "    }\n",
              "</style>\n",
              "<table border=\"1\" class=\"dataframe\">\n",
              "  <thead>\n",
              "    <tr style=\"text-align: right;\">\n",
              "      <th></th>\n",
              "      <th>laptop_ID</th>\n",
              "      <th>Company</th>\n",
              "      <th>TypeName</th>\n",
              "      <th>Inches</th>\n",
              "      <th>ScreenResolution</th>\n",
              "      <th>Cpu</th>\n",
              "      <th>Ram</th>\n",
              "      <th>Memory</th>\n",
              "      <th>Gpu</th>\n",
              "      <th>OpSys</th>\n",
              "      <th>Weight</th>\n",
              "      <th>Price_euros</th>\n",
              "    </tr>\n",
              "  </thead>\n",
              "  <tbody>\n",
              "    <tr>\n",
              "      <th>0</th>\n",
              "      <td>1</td>\n",
              "      <td>Apple</td>\n",
              "      <td>Ultrabook</td>\n",
              "      <td>13.3</td>\n",
              "      <td>IPS Panel Retina Display 2560x1600</td>\n",
              "      <td>Intel Core i5 2.3GHz</td>\n",
              "      <td>8GB</td>\n",
              "      <td>128GB SSD</td>\n",
              "      <td>Intel Iris Plus Graphics 640</td>\n",
              "      <td>macOS</td>\n",
              "      <td>1.37kg</td>\n",
              "      <td>1339.69</td>\n",
              "    </tr>\n",
              "    <tr>\n",
              "      <th>1</th>\n",
              "      <td>2</td>\n",
              "      <td>Apple</td>\n",
              "      <td>Ultrabook</td>\n",
              "      <td>13.3</td>\n",
              "      <td>1440x900</td>\n",
              "      <td>Intel Core i5 1.8GHz</td>\n",
              "      <td>8GB</td>\n",
              "      <td>128GB Flash Storage</td>\n",
              "      <td>Intel HD Graphics 6000</td>\n",
              "      <td>macOS</td>\n",
              "      <td>1.34kg</td>\n",
              "      <td>898.94</td>\n",
              "    </tr>\n",
              "    <tr>\n",
              "      <th>2</th>\n",
              "      <td>3</td>\n",
              "      <td>HP</td>\n",
              "      <td>Notebook</td>\n",
              "      <td>15.6</td>\n",
              "      <td>Full HD 1920x1080</td>\n",
              "      <td>Intel Core i5 7200U 2.5GHz</td>\n",
              "      <td>8GB</td>\n",
              "      <td>256GB SSD</td>\n",
              "      <td>Intel HD Graphics 620</td>\n",
              "      <td>No OS</td>\n",
              "      <td>1.86kg</td>\n",
              "      <td>575.00</td>\n",
              "    </tr>\n",
              "    <tr>\n",
              "      <th>3</th>\n",
              "      <td>4</td>\n",
              "      <td>Apple</td>\n",
              "      <td>Ultrabook</td>\n",
              "      <td>15.4</td>\n",
              "      <td>IPS Panel Retina Display 2880x1800</td>\n",
              "      <td>Intel Core i7 2.7GHz</td>\n",
              "      <td>16GB</td>\n",
              "      <td>512GB SSD</td>\n",
              "      <td>AMD Radeon Pro 455</td>\n",
              "      <td>macOS</td>\n",
              "      <td>1.83kg</td>\n",
              "      <td>2537.45</td>\n",
              "    </tr>\n",
              "    <tr>\n",
              "      <th>4</th>\n",
              "      <td>5</td>\n",
              "      <td>Apple</td>\n",
              "      <td>Ultrabook</td>\n",
              "      <td>13.3</td>\n",
              "      <td>IPS Panel Retina Display 2560x1600</td>\n",
              "      <td>Intel Core i5 3.1GHz</td>\n",
              "      <td>8GB</td>\n",
              "      <td>256GB SSD</td>\n",
              "      <td>Intel Iris Plus Graphics 650</td>\n",
              "      <td>macOS</td>\n",
              "      <td>1.37kg</td>\n",
              "      <td>1803.60</td>\n",
              "    </tr>\n",
              "  </tbody>\n",
              "</table>\n",
              "</div>\n",
              "      <button class=\"colab-df-convert\" onclick=\"convertToInteractive('df-66c212a1-04e3-49ac-b1df-c7456e3c5433')\"\n",
              "              title=\"Convert this dataframe to an interactive table.\"\n",
              "              style=\"display:none;\">\n",
              "        \n",
              "  <svg xmlns=\"http://www.w3.org/2000/svg\" height=\"24px\"viewBox=\"0 0 24 24\"\n",
              "       width=\"24px\">\n",
              "    <path d=\"M0 0h24v24H0V0z\" fill=\"none\"/>\n",
              "    <path d=\"M18.56 5.44l.94 2.06.94-2.06 2.06-.94-2.06-.94-.94-2.06-.94 2.06-2.06.94zm-11 1L8.5 8.5l.94-2.06 2.06-.94-2.06-.94L8.5 2.5l-.94 2.06-2.06.94zm10 10l.94 2.06.94-2.06 2.06-.94-2.06-.94-.94-2.06-.94 2.06-2.06.94z\"/><path d=\"M17.41 7.96l-1.37-1.37c-.4-.4-.92-.59-1.43-.59-.52 0-1.04.2-1.43.59L10.3 9.45l-7.72 7.72c-.78.78-.78 2.05 0 2.83L4 21.41c.39.39.9.59 1.41.59.51 0 1.02-.2 1.41-.59l7.78-7.78 2.81-2.81c.8-.78.8-2.07 0-2.86zM5.41 20L4 18.59l7.72-7.72 1.47 1.35L5.41 20z\"/>\n",
              "  </svg>\n",
              "      </button>\n",
              "      \n",
              "  <style>\n",
              "    .colab-df-container {\n",
              "      display:flex;\n",
              "      flex-wrap:wrap;\n",
              "      gap: 12px;\n",
              "    }\n",
              "\n",
              "    .colab-df-convert {\n",
              "      background-color: #E8F0FE;\n",
              "      border: none;\n",
              "      border-radius: 50%;\n",
              "      cursor: pointer;\n",
              "      display: none;\n",
              "      fill: #1967D2;\n",
              "      height: 32px;\n",
              "      padding: 0 0 0 0;\n",
              "      width: 32px;\n",
              "    }\n",
              "\n",
              "    .colab-df-convert:hover {\n",
              "      background-color: #E2EBFA;\n",
              "      box-shadow: 0px 1px 2px rgba(60, 64, 67, 0.3), 0px 1px 3px 1px rgba(60, 64, 67, 0.15);\n",
              "      fill: #174EA6;\n",
              "    }\n",
              "\n",
              "    [theme=dark] .colab-df-convert {\n",
              "      background-color: #3B4455;\n",
              "      fill: #D2E3FC;\n",
              "    }\n",
              "\n",
              "    [theme=dark] .colab-df-convert:hover {\n",
              "      background-color: #434B5C;\n",
              "      box-shadow: 0px 1px 3px 1px rgba(0, 0, 0, 0.15);\n",
              "      filter: drop-shadow(0px 1px 2px rgba(0, 0, 0, 0.3));\n",
              "      fill: #FFFFFF;\n",
              "    }\n",
              "  </style>\n",
              "\n",
              "      <script>\n",
              "        const buttonEl =\n",
              "          document.querySelector('#df-66c212a1-04e3-49ac-b1df-c7456e3c5433 button.colab-df-convert');\n",
              "        buttonEl.style.display =\n",
              "          google.colab.kernel.accessAllowed ? 'block' : 'none';\n",
              "\n",
              "        async function convertToInteractive(key) {\n",
              "          const element = document.querySelector('#df-66c212a1-04e3-49ac-b1df-c7456e3c5433');\n",
              "          const dataTable =\n",
              "            await google.colab.kernel.invokeFunction('convertToInteractive',\n",
              "                                                     [key], {});\n",
              "          if (!dataTable) return;\n",
              "\n",
              "          const docLinkHtml = 'Like what you see? Visit the ' +\n",
              "            '<a target=\"_blank\" href=https://colab.research.google.com/notebooks/data_table.ipynb>data table notebook</a>'\n",
              "            + ' to learn more about interactive tables.';\n",
              "          element.innerHTML = '';\n",
              "          dataTable['output_type'] = 'display_data';\n",
              "          await google.colab.output.renderOutput(dataTable, element);\n",
              "          const docLink = document.createElement('div');\n",
              "          docLink.innerHTML = docLinkHtml;\n",
              "          element.appendChild(docLink);\n",
              "        }\n",
              "      </script>\n",
              "    </div>\n",
              "  </div>\n",
              "  "
            ]
          },
          "metadata": {},
          "execution_count": 83
        }
      ]
    },
    {
      "cell_type": "code",
      "source": [
        "sales_typename=df.TypeName.value_counts()"
      ],
      "metadata": {
        "id": "WCWhKt7NbCRj"
      },
      "execution_count": 84,
      "outputs": []
    },
    {
      "cell_type": "code",
      "source": [
        "sales_typename.plot(kind=\"bar\")"
      ],
      "metadata": {
        "colab": {
          "base_uri": "https://localhost:8080/",
          "height": 362
        },
        "id": "y04qpZvMbCLo",
        "outputId": "9a7a862a-c892-4792-abeb-bac4336c084c"
      },
      "execution_count": 85,
      "outputs": [
        {
          "output_type": "execute_result",
          "data": {
            "text/plain": [
              "<matplotlib.axes._subplots.AxesSubplot at 0x7f65944c34d0>"
            ]
          },
          "metadata": {},
          "execution_count": 85
        },
        {
          "output_type": "display_data",
          "data": {
            "text/plain": [
              "<Figure size 432x288 with 1 Axes>"
            ],
            "image/png": "[encoded data removed]"
          },
          "metadata": {
            "needs_background": "light"
          }
        }
      ]
    },
    {
      "cell_type": "code",
      "source": [
        "df.head()"
      ],
      "metadata": {
        "id": "5KP-ZLrCbCJc",
        "colab": {
          "base_uri": "https://localhost:8080/",
          "height": 336
        },
        "outputId": "29af3d7f-b2d4-426d-f314-b0f23e17a58e"
      },
      "execution_count": 86,
      "outputs": [
        {
          "output_type": "execute_result",
          "data": {
            "text/plain": [
              "   laptop_ID Company   TypeName  Inches                    ScreenResolution  \\\n",
              "0          1   Apple  Ultrabook    13.3  IPS Panel Retina Display 2560x1600   \n",
              "1          2   Apple  Ultrabook    13.3                            1440x900   \n",
              "2          3      HP   Notebook    15.6                   Full HD 1920x1080   \n",
              "3          4   Apple  Ultrabook    15.4  IPS Panel Retina Display 2880x1800   \n",
              "4          5   Apple  Ultrabook    13.3  IPS Panel Retina Display 2560x1600   \n",
              "\n",
              "                          Cpu   Ram               Memory  \\\n",
              "0        Intel Core i5 2.3GHz   8GB            128GB SSD   \n",
              "1        Intel Core i5 1.8GHz   8GB  128GB Flash Storage   \n",
              "2  Intel Core i5 7200U 2.5GHz   8GB            256GB SSD   \n",
              "3        Intel Core i7 2.7GHz  16GB            512GB SSD   \n",
              "4        Intel Core i5 3.1GHz   8GB            256GB SSD   \n",
              "\n",
              "                            Gpu  OpSys  Weight  Price_euros  \n",
              "0  Intel Iris Plus Graphics 640  macOS  1.37kg      1339.69  \n",
              "1        Intel HD Graphics 6000  macOS  1.34kg       898.94  \n",
              "2         Intel HD Graphics 620  No OS  1.86kg       575.00  \n",
              "3            AMD Radeon Pro 455  macOS  1.83kg      2537.45  \n",
              "4  Intel Iris Plus Graphics 650  macOS  1.37kg      1803.60  "
            ],
            "text/html": [
              "\n",
              "  <div id=\"df-1e1903ae-b0d7-4cd4-957d-64851f17e948\">\n",
              "    <div class=\"colab-df-container\">\n",
              "      <div>\n",
              "<style scoped>\n",
              "    .dataframe tbody tr th:only-of-type {\n",
              "        vertical-align: middle;\n",
              "    }\n",
              "\n",
              "    .dataframe tbody tr th {\n",
              "        vertical-align: top;\n",
              "    }\n",
              "\n",
              "    .dataframe thead th {\n",
              "        text-align: right;\n",
              "    }\n",
              "</style>\n",
              "<table border=\"1\" class=\"dataframe\">\n",
              "  <thead>\n",
              "    <tr style=\"text-align: right;\">\n",
              "      <th></th>\n",
              "      <th>laptop_ID</th>\n",
              "      <th>Company</th>\n",
              "      <th>TypeName</th>\n",
              "      <th>Inches</th>\n",
              "      <th>ScreenResolution</th>\n",
              "      <th>Cpu</th>\n",
              "      <th>Ram</th>\n",
              "      <th>Memory</th>\n",
              "      <th>Gpu</th>\n",
              "      <th>OpSys</th>\n",
              "      <th>Weight</th>\n",
              "      <th>Price_euros</th>\n",
              "    </tr>\n",
              "  </thead>\n",
              "  <tbody>\n",
              "    <tr>\n",
              "      <th>0</th>\n",
              "      <td>1</td>\n",
              "      <td>Apple</td>\n",
              "      <td>Ultrabook</td>\n",
              "      <td>13.3</td>\n",
              "      <td>IPS Panel Retina Display 2560x1600</td>\n",
              "      <td>Intel Core i5 2.3GHz</td>\n",
              "      <td>8GB</td>\n",
              "      <td>128GB SSD</td>\n",
              "      <td>Intel Iris Plus Graphics 640</td>\n",
              "      <td>macOS</td>\n",
              "      <td>1.37kg</td>\n",
              "      <td>1339.69</td>\n",
              "    </tr>\n",
              "    <tr>\n",
              "      <th>1</th>\n",
              "      <td>2</td>\n",
              "      <td>Apple</td>\n",
              "      <td>Ultrabook</td>\n",
              "      <td>13.3</td>\n",
              "      <td>1440x900</td>\n",
              "      <td>Intel Core i5 1.8GHz</td>\n",
              "      <td>8GB</td>\n",
              "      <td>128GB Flash Storage</td>\n",
              "      <td>Intel HD Graphics 6000</td>\n",
              "      <td>macOS</td>\n",
              "      <td>1.34kg</td>\n",
              "      <td>898.94</td>\n",
              "    </tr>\n",
              "    <tr>\n",
              "      <th>2</th>\n",
              "      <td>3</td>\n",
              "      <td>HP</td>\n",
              "      <td>Notebook</td>\n",
              "      <td>15.6</td>\n",
              "      <td>Full HD 1920x1080</td>\n",
              "      <td>Intel Core i5 7200U 2.5GHz</td>\n",
              "      <td>8GB</td>\n",
              "      <td>256GB SSD</td>\n",
              "      <td>Intel HD Graphics 620</td>\n",
              "      <td>No OS</td>\n",
              "      <td>1.86kg</td>\n",
              "      <td>575.00</td>\n",
              "    </tr>\n",
              "    <tr>\n",
              "      <th>3</th>\n",
              "      <td>4</td>\n",
              "      <td>Apple</td>\n",
              "      <td>Ultrabook</td>\n",
              "      <td>15.4</td>\n",
              "      <td>IPS Panel Retina Display 2880x1800</td>\n",
              "      <td>Intel Core i7 2.7GHz</td>\n",
              "      <td>16GB</td>\n",
              "      <td>512GB SSD</td>\n",
              "      <td>AMD Radeon Pro 455</td>\n",
              "      <td>macOS</td>\n",
              "      <td>1.83kg</td>\n",
              "      <td>2537.45</td>\n",
              "    </tr>\n",
              "    <tr>\n",
              "      <th>4</th>\n",
              "      <td>5</td>\n",
              "      <td>Apple</td>\n",
              "      <td>Ultrabook</td>\n",
              "      <td>13.3</td>\n",
              "      <td>IPS Panel Retina Display 2560x1600</td>\n",
              "      <td>Intel Core i5 3.1GHz</td>\n",
              "      <td>8GB</td>\n",
              "      <td>256GB SSD</td>\n",
              "      <td>Intel Iris Plus Graphics 650</td>\n",
              "      <td>macOS</td>\n",
              "      <td>1.37kg</td>\n",
              "      <td>1803.60</td>\n",
              "    </tr>\n",
              "  </tbody>\n",
              "</table>\n",
              "</div>\n",
              "      <button class=\"colab-df-convert\" onclick=\"convertToInteractive('df-1e1903ae-b0d7-4cd4-957d-64851f17e948')\"\n",
              "              title=\"Convert this dataframe to an interactive table.\"\n",
              "              style=\"display:none;\">\n",
              "        \n",
              "  <svg xmlns=\"http://www.w3.org/2000/svg\" height=\"24px\"viewBox=\"0 0 24 24\"\n",
              "       width=\"24px\">\n",
              "    <path d=\"M0 0h24v24H0V0z\" fill=\"none\"/>\n",
              "    <path d=\"M18.56 5.44l.94 2.06.94-2.06 2.06-.94-2.06-.94-.94-2.06-.94 2.06-2.06.94zm-11 1L8.5 8.5l.94-2.06 2.06-.94-2.06-.94L8.5 2.5l-.94 2.06-2.06.94zm10 10l.94 2.06.94-2.06 2.06-.94-2.06-.94-.94-2.06-.94 2.06-2.06.94z\"/><path d=\"M17.41 7.96l-1.37-1.37c-.4-.4-.92-.59-1.43-.59-.52 0-1.04.2-1.43.59L10.3 9.45l-7.72 7.72c-.78.78-.78 2.05 0 2.83L4 21.41c.39.39.9.59 1.41.59.51 0 1.02-.2 1.41-.59l7.78-7.78 2.81-2.81c.8-.78.8-2.07 0-2.86zM5.41 20L4 18.59l7.72-7.72 1.47 1.35L5.41 20z\"/>\n",
              "  </svg>\n",
              "      </button>\n",
              "      \n",
              "  <style>\n",
              "    .colab-df-container {\n",
              "      display:flex;\n",
              "      flex-wrap:wrap;\n",
              "      gap: 12px;\n",
              "    }\n",
              "\n",
              "    .colab-df-convert {\n",
              "      background-color: #E8F0FE;\n",
              "      border: none;\n",
              "      border-radius: 50%;\n",
              "      cursor: pointer;\n",
              "      display: none;\n",
              "      fill: #1967D2;\n",
              "      height: 32px;\n",
              "      padding: 0 0 0 0;\n",
              "      width: 32px;\n",
              "    }\n",
              "\n",
              "    .colab-df-convert:hover {\n",
              "      background-color: #E2EBFA;\n",
              "      box-shadow: 0px 1px 2px rgba(60, 64, 67, 0.3), 0px 1px 3px 1px rgba(60, 64, 67, 0.15);\n",
              "      fill: #174EA6;\n",
              "    }\n",
              "\n",
              "    [theme=dark] .colab-df-convert {\n",
              "      background-color: #3B4455;\n",
              "      fill: #D2E3FC;\n",
              "    }\n",
              "\n",
              "    [theme=dark] .colab-df-convert:hover {\n",
              "      background-color: #434B5C;\n",
              "      box-shadow: 0px 1px 3px 1px rgba(0, 0, 0, 0.15);\n",
              "      filter: drop-shadow(0px 1px 2px rgba(0, 0, 0, 0.3));\n",
              "      fill: #FFFFFF;\n",
              "    }\n",
              "  </style>\n",
              "\n",
              "      <script>\n",
              "        const buttonEl =\n",
              "          document.querySelector('#df-1e1903ae-b0d7-4cd4-957d-64851f17e948 button.colab-df-convert');\n",
              "        buttonEl.style.display =\n",
              "          google.colab.kernel.accessAllowed ? 'block' : 'none';\n",
              "\n",
              "        async function convertToInteractive(key) {\n",
              "          const element = document.querySelector('#df-1e1903ae-b0d7-4cd4-957d-64851f17e948');\n",
              "          const dataTable =\n",
              "            await google.colab.kernel.invokeFunction('convertToInteractive',\n",
              "                                                     [key], {});\n",
              "          if (!dataTable) return;\n",
              "\n",
              "          const docLinkHtml = 'Like what you see? Visit the ' +\n",
              "            '<a target=\"_blank\" href=https://colab.research.google.com/notebooks/data_table.ipynb>data table notebook</a>'\n",
              "            + ' to learn more about interactive tables.';\n",
              "          element.innerHTML = '';\n",
              "          dataTable['output_type'] = 'display_data';\n",
              "          await google.colab.output.renderOutput(dataTable, element);\n",
              "          const docLink = document.createElement('div');\n",
              "          docLink.innerHTML = docLinkHtml;\n",
              "          element.appendChild(docLink);\n",
              "        }\n",
              "      </script>\n",
              "    </div>\n",
              "  </div>\n",
              "  "
            ]
          },
          "metadata": {},
          "execution_count": 86
        }
      ]
    },
    {
      "cell_type": "code",
      "source": [
        "notebook=df[df.TypeName==\"Notebook\"] \n",
        "notebook_inches=notebook.Inches.value_counts()\n",
        "notebook_inches.plot(kind=\"bar\")"
      ],
      "metadata": {
        "id": "GiXR-S65bCHE",
        "colab": {
          "base_uri": "https://localhost:8080/",
          "height": 296
        },
        "outputId": "d9105c1c-1c6c-4111-842b-cc12320a5fa8"
      },
      "execution_count": 87,
      "outputs": [
        {
          "output_type": "execute_result",
          "data": {
            "text/plain": [
              "<matplotlib.axes._subplots.AxesSubplot at 0x7f65943e35d0>"
            ]
          },
          "metadata": {},
          "execution_count": 87
        },
        {
          "output_type": "display_data",
          "data": {
            "text/plain": [
              "<Figure size 432x288 with 1 Axes>"
            ],
            "image/png": "[encoded data removed]"
          },
          "metadata": {
            "needs_background": "light"
          }
        }
      ]
    },
    {
      "cell_type": "code",
      "source": [
        "screen_resolution=df.ScreenResolution.value_counts()[:10]\n",
        "screen_resolution.plot(kind=\"bar\",)"
      ],
      "metadata": {
        "colab": {
          "base_uri": "https://localhost:8080/",
          "height": 511
        },
        "id": "QVFZLud6U9pw",
        "outputId": "d50a4fe4-3c03-4bea-b308-f4b183a29722"
      },
      "execution_count": 88,
      "outputs": [
        {
          "output_type": "execute_result",
          "data": {
            "text/plain": [
              "<matplotlib.axes._subplots.AxesSubplot at 0x7f6594652910>"
            ]
          },
          "metadata": {},
          "execution_count": 88
        },
        {
          "output_type": "display_data",
          "data": {
            "text/plain": [
              "<Figure size 432x288 with 1 Axes>"
            ],
            "image/png": "[encoded data removed]"
          },
          "metadata": {
            "needs_background": "light"
          }
        }
      ]
    },
    {
      "cell_type": "code",
      "source": [
        "sns.histplot(data=df,x = 'Price_euros', kde = True)"
      ],
      "metadata": {
        "colab": {
          "base_uri": "https://localhost:8080/",
          "height": 301
        },
        "id": "KckcVOepV-HZ",
        "outputId": "f7e50bdd-58af-417b-c315-15f01e1ff099"
      },
      "execution_count": 89,
      "outputs": [
        {
          "output_type": "execute_result",
          "data": {
            "text/plain": [
              "<matplotlib.axes._subplots.AxesSubplot at 0x7f6594316ed0>"
            ]
          },
          "metadata": {},
          "execution_count": 89
        },
        {
          "output_type": "display_data",
          "data": {
            "text/plain": [
              "<Figure size 432x288 with 1 Axes>"
            ],
            "image/png": "[encoded data removed]"
          },
          "metadata": {
            "needs_background": "light"
          }
        }
      ]
    },
    {
      "cell_type": "code",
      "source": [
        "plt.figure(figsize = (15,7))\n",
        "sns.boxplot(x = 'Ram',y = 'Price_euros', data = df)"
      ],
      "metadata": {
        "colab": {
          "base_uri": "https://localhost:8080/",
          "height": 460
        },
        "id": "fVr7gGFTXOhB",
        "outputId": "44b3b97d-6206-48b4-8aa0-25340b8268c5"
      },
      "execution_count": 90,
      "outputs": [
        {
          "output_type": "execute_result",
          "data": {
            "text/plain": [
              "<matplotlib.axes._subplots.AxesSubplot at 0x7f6594316190>"
            ]
          },
          "metadata": {},
          "execution_count": 90
        },
        {
          "output_type": "display_data",
          "data": {
            "text/plain": [
              "<Figure size 1080x504 with 1 Axes>"
            ],
            "image/png": "[encoded data removed]"
          },
          "metadata": {
            "needs_background": "light"
          }
        }
      ]
    },
    {
      "cell_type": "code",
      "source": [
        "plt.figure(figsize = (15,7))\n",
        "sns.boxplot(x = 'Company',y = 'Price_euros', data = df)"
      ],
      "metadata": {
        "colab": {
          "base_uri": "https://localhost:8080/",
          "height": 460
        },
        "id": "IY3iXx-1XONS",
        "outputId": "d0c69a10-1af8-4969-92df-d869a456b0e3"
      },
      "execution_count": 91,
      "outputs": [
        {
          "output_type": "execute_result",
          "data": {
            "text/plain": [
              "<matplotlib.axes._subplots.AxesSubplot at 0x7f65940a6cd0>"
            ]
          },
          "metadata": {},
          "execution_count": 91
        },
        {
          "output_type": "display_data",
          "data": {
            "text/plain": [
              "<Figure size 1080x504 with 1 Axes>"
            ],
            "image/png": "[encoded data removed]"
          },
          "metadata": {
            "needs_background": "light"
          }
        }
      ]
    },
    {
      "cell_type": "code",
      "source": [
        "#Removing KG from weight Column\n",
        "df['Weight'] = df['Weight'].str[:-2]\n",
        "#Removing GB from Ram Column\n",
        "df[\"Ram\"]=df[\"Ram\"].str[:-2]"
      ],
      "metadata": {
        "id": "7c_yJ0KBYuAd"
      },
      "execution_count": 92,
      "outputs": []
    },
    {
      "cell_type": "code",
      "source": [
        "df.head()"
      ],
      "metadata": {
        "colab": {
          "base_uri": "https://localhost:8080/",
          "height": 250
        },
        "id": "7THklGXaYt8f",
        "outputId": "6a793cd2-1410-4996-c22a-2c273d2bf2f9"
      },
      "execution_count": 93,
      "outputs": [
        {
          "output_type": "execute_result",
          "data": {
            "text/plain": [
              "   laptop_ID Company   TypeName  Inches                    ScreenResolution  \\\n",
              "0          1   Apple  Ultrabook    13.3  IPS Panel Retina Display 2560x1600   \n",
              "1          2   Apple  Ultrabook    13.3                            1440x900   \n",
              "2          3      HP   Notebook    15.6                   Full HD 1920x1080   \n",
              "3          4   Apple  Ultrabook    15.4  IPS Panel Retina Display 2880x1800   \n",
              "4          5   Apple  Ultrabook    13.3  IPS Panel Retina Display 2560x1600   \n",
              "\n",
              "                          Cpu Ram               Memory  \\\n",
              "0        Intel Core i5 2.3GHz   8            128GB SSD   \n",
              "1        Intel Core i5 1.8GHz   8  128GB Flash Storage   \n",
              "2  Intel Core i5 7200U 2.5GHz   8            256GB SSD   \n",
              "3        Intel Core i7 2.7GHz  16            512GB SSD   \n",
              "4        Intel Core i5 3.1GHz   8            256GB SSD   \n",
              "\n",
              "                            Gpu  OpSys Weight  Price_euros  \n",
              "0  Intel Iris Plus Graphics 640  macOS   1.37      1339.69  \n",
              "1        Intel HD Graphics 6000  macOS   1.34       898.94  \n",
              "2         Intel HD Graphics 620  No OS   1.86       575.00  \n",
              "3            AMD Radeon Pro 455  macOS   1.83      2537.45  \n",
              "4  Intel Iris Plus Graphics 650  macOS   1.37      1803.60  "
            ],
            "text/html": [
              "\n",
              "  <div id=\"df-bf5a48d9-12b3-45f0-b633-bfcf629efac9\">\n",
              "    <div class=\"colab-df-container\">\n",
              "      <div>\n",
              "<style scoped>\n",
              "    .dataframe tbody tr th:only-of-type {\n",
              "        vertical-align: middle;\n",
              "    }\n",
              "\n",
              "    .dataframe tbody tr th {\n",
              "        vertical-align: top;\n",
              "    }\n",
              "\n",
              "    .dataframe thead th {\n",
              "        text-align: right;\n",
              "    }\n",
              "</style>\n",
              "<table border=\"1\" class=\"dataframe\">\n",
              "  <thead>\n",
              "    <tr style=\"text-align: right;\">\n",
              "      <th></th>\n",
              "      <th>laptop_ID</th>\n",
              "      <th>Company</th>\n",
              "      <th>TypeName</th>\n",
              "      <th>Inches</th>\n",
              "      <th>ScreenResolution</th>\n",
              "      <th>Cpu</th>\n",
              "      <th>Ram</th>\n",
              "      <th>Memory</th>\n",
              "      <th>Gpu</th>\n",
              "      <th>OpSys</th>\n",
              "      <th>Weight</th>\n",
              "      <th>Price_euros</th>\n",
              "    </tr>\n",
              "  </thead>\n",
              "  <tbody>\n",
              "    <tr>\n",
              "      <th>0</th>\n",
              "      <td>1</td>\n",
              "      <td>Apple</td>\n",
              "      <td>Ultrabook</td>\n",
              "      <td>13.3</td>\n",
              "      <td>IPS Panel Retina Display 2560x1600</td>\n",
              "      <td>Intel Core i5 2.3GHz</td>\n",
              "      <td>8</td>\n",
              "      <td>128GB SSD</td>\n",
              "      <td>Intel Iris Plus Graphics 640</td>\n",
              "      <td>macOS</td>\n",
              "      <td>1.37</td>\n",
              "      <td>1339.69</td>\n",
              "    </tr>\n",
              "    <tr>\n",
              "      <th>1</th>\n",
              "      <td>2</td>\n",
              "      <td>Apple</td>\n",
              "      <td>Ultrabook</td>\n",
              "      <td>13.3</td>\n",
              "      <td>1440x900</td>\n",
              "      <td>Intel Core i5 1.8GHz</td>\n",
              "      <td>8</td>\n",
              "      <td>128GB Flash Storage</td>\n",
              "      <td>Intel HD Graphics 6000</td>\n",
              "      <td>macOS</td>\n",
              "      <td>1.34</td>\n",
              "      <td>898.94</td>\n",
              "    </tr>\n",
              "    <tr>\n",
              "      <th>2</th>\n",
              "      <td>3</td>\n",
              "      <td>HP</td>\n",
              "      <td>Notebook</td>\n",
              "      <td>15.6</td>\n",
              "      <td>Full HD 1920x1080</td>\n",
              "      <td>Intel Core i5 7200U 2.5GHz</td>\n",
              "      <td>8</td>\n",
              "      <td>256GB SSD</td>\n",
              "      <td>Intel HD Graphics 620</td>\n",
              "      <td>No OS</td>\n",
              "      <td>1.86</td>\n",
              "      <td>575.00</td>\n",
              "    </tr>\n",
              "    <tr>\n",
              "      <th>3</th>\n",
              "      <td>4</td>\n",
              "      <td>Apple</td>\n",
              "      <td>Ultrabook</td>\n",
              "      <td>15.4</td>\n",
              "      <td>IPS Panel Retina Display 2880x1800</td>\n",
              "      <td>Intel Core i7 2.7GHz</td>\n",
              "      <td>16</td>\n",
              "      <td>512GB SSD</td>\n",
              "      <td>AMD Radeon Pro 455</td>\n",
              "      <td>macOS</td>\n",
              "      <td>1.83</td>\n",
              "      <td>2537.45</td>\n",
              "    </tr>\n",
              "    <tr>\n",
              "      <th>4</th>\n",
              "      <td>5</td>\n",
              "      <td>Apple</td>\n",
              "      <td>Ultrabook</td>\n",
              "      <td>13.3</td>\n",
              "      <td>IPS Panel Retina Display 2560x1600</td>\n",
              "      <td>Intel Core i5 3.1GHz</td>\n",
              "      <td>8</td>\n",
              "      <td>256GB SSD</td>\n",
              "      <td>Intel Iris Plus Graphics 650</td>\n",
              "      <td>macOS</td>\n",
              "      <td>1.37</td>\n",
              "      <td>1803.60</td>\n",
              "    </tr>\n",
              "  </tbody>\n",
              "</table>\n",
              "</div>\n",
              "      <button class=\"colab-df-convert\" onclick=\"convertToInteractive('df-bf5a48d9-12b3-45f0-b633-bfcf629efac9')\"\n",
              "              title=\"Convert this dataframe to an interactive table.\"\n",
              "              style=\"display:none;\">\n",
              "        \n",
              "  <svg xmlns=\"http://www.w3.org/2000/svg\" height=\"24px\"viewBox=\"0 0 24 24\"\n",
              "       width=\"24px\">\n",
              "    <path d=\"M0 0h24v24H0V0z\" fill=\"none\"/>\n",
              "    <path d=\"M18.56 5.44l.94 2.06.94-2.06 2.06-.94-2.06-.94-.94-2.06-.94 2.06-2.06.94zm-11 1L8.5 8.5l.94-2.06 2.06-.94-2.06-.94L8.5 2.5l-.94 2.06-2.06.94zm10 10l.94 2.06.94-2.06 2.06-.94-2.06-.94-.94-2.06-.94 2.06-2.06.94z\"/><path d=\"M17.41 7.96l-1.37-1.37c-.4-.4-.92-.59-1.43-.59-.52 0-1.04.2-1.43.59L10.3 9.45l-7.72 7.72c-.78.78-.78 2.05 0 2.83L4 21.41c.39.39.9.59 1.41.59.51 0 1.02-.2 1.41-.59l7.78-7.78 2.81-2.81c.8-.78.8-2.07 0-2.86zM5.41 20L4 18.59l7.72-7.72 1.47 1.35L5.41 20z\"/>\n",
              "  </svg>\n",
              "      </button>\n",
              "      \n",
              "  <style>\n",
              "    .colab-df-container {\n",
              "      display:flex;\n",
              "      flex-wrap:wrap;\n",
              "      gap: 12px;\n",
              "    }\n",
              "\n",
              "    .colab-df-convert {\n",
              "      background-color: #E8F0FE;\n",
              "      border: none;\n",
              "      border-radius: 50%;\n",
              "      cursor: pointer;\n",
              "      display: none;\n",
              "      fill: #1967D2;\n",
              "      height: 32px;\n",
              "      padding: 0 0 0 0;\n",
              "      width: 32px;\n",
              "    }\n",
              "\n",
              "    .colab-df-convert:hover {\n",
              "      background-color: #E2EBFA;\n",
              "      box-shadow: 0px 1px 2px rgba(60, 64, 67, 0.3), 0px 1px 3px 1px rgba(60, 64, 67, 0.15);\n",
              "      fill: #174EA6;\n",
              "    }\n",
              "\n",
              "    [theme=dark] .colab-df-convert {\n",
              "      background-color: #3B4455;\n",
              "      fill: #D2E3FC;\n",
              "    }\n",
              "\n",
              "    [theme=dark] .colab-df-convert:hover {\n",
              "      background-color: #434B5C;\n",
              "      box-shadow: 0px 1px 3px 1px rgba(0, 0, 0, 0.15);\n",
              "      filter: drop-shadow(0px 1px 2px rgba(0, 0, 0, 0.3));\n",
              "      fill: #FFFFFF;\n",
              "    }\n",
              "  </style>\n",
              "\n",
              "      <script>\n",
              "        const buttonEl =\n",
              "          document.querySelector('#df-bf5a48d9-12b3-45f0-b633-bfcf629efac9 button.colab-df-convert');\n",
              "        buttonEl.style.display =\n",
              "          google.colab.kernel.accessAllowed ? 'block' : 'none';\n",
              "\n",
              "        async function convertToInteractive(key) {\n",
              "          const element = document.querySelector('#df-bf5a48d9-12b3-45f0-b633-bfcf629efac9');\n",
              "          const dataTable =\n",
              "            await google.colab.kernel.invokeFunction('convertToInteractive',\n",
              "                                                     [key], {});\n",
              "          if (!dataTable) return;\n",
              "\n",
              "          const docLinkHtml = 'Like what you see? Visit the ' +\n",
              "            '<a target=\"_blank\" href=https://colab.research.google.com/notebooks/data_table.ipynb>data table notebook</a>'\n",
              "            + ' to learn more about interactive tables.';\n",
              "          element.innerHTML = '';\n",
              "          dataTable['output_type'] = 'display_data';\n",
              "          await google.colab.output.renderOutput(dataTable, element);\n",
              "          const docLink = document.createElement('div');\n",
              "          docLink.innerHTML = docLinkHtml;\n",
              "          element.appendChild(docLink);\n",
              "        }\n",
              "      </script>\n",
              "    </div>\n",
              "  </div>\n",
              "  "
            ]
          },
          "metadata": {},
          "execution_count": 93
        }
      ]
    },
    {
      "cell_type": "markdown",
      "source": [
        "## **Tasks:**\n",
        "\n",
        "1.   Remove Gb from memory.\n",
        "2.   Remove KG from weight\n",
        "\n",
        "\n",
        "\n",
        "\n",
        "\n"
      ],
      "metadata": {
        "id": "xinKM1CFbQL1"
      }
    },
    {
      "cell_type": "markdown",
      "source": [
        "### **Observations:**\n",
        "1.Maximum number of sales are of Dell.\n",
        "\n",
        "2.Top 5 Companies of top sales are Dell, Lenovo ,HP ,Asus ,MSI.\n",
        "\n",
        "3.Maximum Sales are of 4 GB Ram.\n",
        "\n",
        "4.Most of People buy Notebook and of 1.5 Inches Notebook.\n",
        "\n",
        "5.Top 3 Screen Resolutions are Full HD 1920x1080 , 1366x768 ,IPS Panel Full HD 1920x1080 .\n",
        "\n",
        "6. Prince of Razer Company are highest."
      ],
      "metadata": {
        "id": "t60XPgNebC9r"
      }
    },
    {
      "cell_type": "markdown",
      "source": [
        "#Label Encoding"
      ],
      "metadata": {
        "id": "3qkn2OaLdSMT"
      }
    },
    {
      "cell_type": "code",
      "source": [
        "from sklearn.preprocessing import LabelEncoder\n",
        "cols = ['Company', 'Product', 'TypeName', 'Inches', 'ScreenResolution', 'Cpu',\n",
        "       'Ram', 'Memory', 'Gpu', 'OpSys',\"Weight\"]\n",
        "for c in cols:\n",
        "    lbl = LabelEncoder() \n",
        "    lbl.fit(list(df[c].values)) \n",
        "    df[c] = lbl.transform(list(df[c].values))"
      ],
      "metadata": {
        "id": "mXEU5G5gc1nN"
      },
      "execution_count": 109,
      "outputs": []
    },
    {
      "cell_type": "code",
      "source": [
        "df.info()"
      ],
      "metadata": {
        "colab": {
          "base_uri": "https://localhost:8080/"
        },
        "id": "DxehmQEzc1k1",
        "outputId": "d64a4a77-fb3b-4e2b-f8a8-356f9177c849"
      },
      "execution_count": 110,
      "outputs": [
        {
          "output_type": "stream",
          "name": "stdout",
          "text": [
            "<class 'pandas.core.frame.DataFrame'>\n",
            "RangeIndex: 1303 entries, 0 to 1302\n",
            "Data columns (total 13 columns):\n",
            " #   Column            Non-Null Count  Dtype  \n",
            "---  ------            --------------  -----  \n",
            " 0   laptop_ID         1303 non-null   int64  \n",
            " 1   Company           1303 non-null   int64  \n",
            " 2   Product           1303 non-null   int64  \n",
            " 3   TypeName          1303 non-null   int64  \n",
            " 4   Inches            1303 non-null   int64  \n",
            " 5   ScreenResolution  1303 non-null   int64  \n",
            " 6   Cpu               1303 non-null   int64  \n",
            " 7   Ram               1303 non-null   int64  \n",
            " 8   Memory            1303 non-null   int64  \n",
            " 9   Gpu               1303 non-null   int64  \n",
            " 10  OpSys             1303 non-null   int64  \n",
            " 11  Weight            1303 non-null   int64  \n",
            " 12  Price_euros       1303 non-null   float64\n",
            "dtypes: float64(1), int64(12)\n",
            "memory usage: 132.5 KB\n"
          ]
        }
      ]
    },
    {
      "cell_type": "markdown",
      "source": [
        "#Feature Selection"
      ],
      "metadata": {
        "id": "mt0WTrsOdgNH"
      }
    },
    {
      "cell_type": "code",
      "source": [
        "corr = df.corr()\n",
        "plt.figure(figsize=(15,10))\n",
        "sns.heatmap(corr, cmap = 'Wistia', annot= True);"
      ],
      "metadata": {
        "colab": {
          "base_uri": "https://localhost:8080/",
          "height": 672
        },
        "id": "vab41s96djTi",
        "outputId": "fee325fd-9da1-4a29-87a6-71ff1d8a40ba"
      },
      "execution_count": 116,
      "outputs": [
        {
          "output_type": "display_data",
          "data": {
            "text/plain": [
              "<Figure size 1080x720 with 2 Axes>"
            ],
            "image/png": "[encoded data removed]"
          },
          "metadata": {
            "needs_background": "light"
          }
        }
      ]
    },
    {
      "cell_type": "markdown",
      "source": [
        "We will remove Inches and Weight because they are not so correlated to Price"
      ],
      "metadata": {
        "id": "2ThQ7wHlfGnx"
      }
    },
    {
      "cell_type": "code",
      "source": [
        "df.drop([\"laptop_ID\",\"Inches\",\"Weight\"],axis=1)"
      ],
      "metadata": {
        "colab": {
          "base_uri": "https://localhost:8080/",
          "height": 424
        },
        "id": "6AS54DhKeJ2s",
        "outputId": "af4bd69f-4101-4dee-f037-8413b4e3f7fe"
      },
      "execution_count": 121,
      "outputs": [
        {
          "output_type": "execute_result",
          "data": {
            "text/plain": [
              "      Company  Product  TypeName  ScreenResolution  Cpu  Ram  Memory  Gpu  \\\n",
              "0           1      300         4                23   65    8       4   58   \n",
              "1           1      301         4                 1   63    8       2   51   \n",
              "2           7       50         3                 8   74    8      16   53   \n",
              "3           1      300         4                25   85    1      29    9   \n",
              "4           1      300         4                23   67    8      16   59   \n",
              "...       ...      ...       ...               ...  ...  ...     ...  ...   \n",
              "1298       10      580         0                13   89    5       4   47   \n",
              "1299       10      588         0                19   89    1      29   47   \n",
              "1300       10      196         3                 0   34    3      35   40   \n",
              "1301        7        2         3                 0   89    7      10   21   \n",
              "1302        2      568         3                 0   34    5      26   40   \n",
              "\n",
              "      OpSys  Price_euros  \n",
              "0         8      1339.69  \n",
              "1         8       898.94  \n",
              "2         4       575.00  \n",
              "3         8      2537.45  \n",
              "4         8      1803.60  \n",
              "...     ...          ...  \n",
              "1298      5       638.00  \n",
              "1299      5      1499.00  \n",
              "1300      5       229.00  \n",
              "1301      5       764.00  \n",
              "1302      5       369.00  \n",
              "\n",
              "[1303 rows x 10 columns]"
            ],
            "text/html": [
              "\n",
              "  <div id=\"df-57bbd8ce-0eda-4238-b14d-4509e07691b4\">\n",
              "    <div class=\"colab-df-container\">\n",
              "      <div>\n",
              "<style scoped>\n",
              "    .dataframe tbody tr th:only-of-type {\n",
              "        vertical-align: middle;\n",
              "    }\n",
              "\n",
              "    .dataframe tbody tr th {\n",
              "        vertical-align: top;\n",
              "    }\n",
              "\n",
              "    .dataframe thead th {\n",
              "        text-align: right;\n",
              "    }\n",
              "</style>\n",
              "<table border=\"1\" class=\"dataframe\">\n",
              "  <thead>\n",
              "    <tr style=\"text-align: right;\">\n",
              "      <th></th>\n",
              "      <th>Company</th>\n",
              "      <th>Product</th>\n",
              "      <th>TypeName</th>\n",
              "      <th>ScreenResolution</th>\n",
              "      <th>Cpu</th>\n",
              "      <th>Ram</th>\n",
              "      <th>Memory</th>\n",
              "      <th>Gpu</th>\n",
              "      <th>OpSys</th>\n",
              "      <th>Price_euros</th>\n",
              "    </tr>\n",
              "  </thead>\n",
              "  <tbody>\n",
              "    <tr>\n",
              "      <th>0</th>\n",
              "      <td>1</td>\n",
              "      <td>300</td>\n",
              "      <td>4</td>\n",
              "      <td>23</td>\n",
              "      <td>65</td>\n",
              "      <td>8</td>\n",
              "      <td>4</td>\n",
              "      <td>58</td>\n",
              "      <td>8</td>\n",
              "      <td>1339.69</td>\n",
              "    </tr>\n",
              "    <tr>\n",
              "      <th>1</th>\n",
              "      <td>1</td>\n",
              "      <td>301</td>\n",
              "      <td>4</td>\n",
              "      <td>1</td>\n",
              "      <td>63</td>\n",
              "      <td>8</td>\n",
              "      <td>2</td>\n",
              "      <td>51</td>\n",
              "      <td>8</td>\n",
              "      <td>898.94</td>\n",
              "    </tr>\n",
              "    <tr>\n",
              "      <th>2</th>\n",
              "      <td>7</td>\n",
              "      <td>50</td>\n",
              "      <td>3</td>\n",
              "      <td>8</td>\n",
              "      <td>74</td>\n",
              "      <td>8</td>\n",
              "      <td>16</td>\n",
              "      <td>53</td>\n",
              "      <td>4</td>\n",
              "      <td>575.00</td>\n",
              "    </tr>\n",
              "    <tr>\n",
              "      <th>3</th>\n",
              "      <td>1</td>\n",
              "      <td>300</td>\n",
              "      <td>4</td>\n",
              "      <td>25</td>\n",
              "      <td>85</td>\n",
              "      <td>1</td>\n",
              "      <td>29</td>\n",
              "      <td>9</td>\n",
              "      <td>8</td>\n",
              "      <td>2537.45</td>\n",
              "    </tr>\n",
              "    <tr>\n",
              "      <th>4</th>\n",
              "      <td>1</td>\n",
              "      <td>300</td>\n",
              "      <td>4</td>\n",
              "      <td>23</td>\n",
              "      <td>67</td>\n",
              "      <td>8</td>\n",
              "      <td>16</td>\n",
              "      <td>59</td>\n",
              "      <td>8</td>\n",
              "      <td>1803.60</td>\n",
              "    </tr>\n",
              "    <tr>\n",
              "      <th>...</th>\n",
              "      <td>...</td>\n",
              "      <td>...</td>\n",
              "      <td>...</td>\n",
              "      <td>...</td>\n",
              "      <td>...</td>\n",
              "      <td>...</td>\n",
              "      <td>...</td>\n",
              "      <td>...</td>\n",
              "      <td>...</td>\n",
              "      <td>...</td>\n",
              "    </tr>\n",
              "    <tr>\n",
              "      <th>1298</th>\n",
              "      <td>10</td>\n",
              "      <td>580</td>\n",
              "      <td>0</td>\n",
              "      <td>13</td>\n",
              "      <td>89</td>\n",
              "      <td>5</td>\n",
              "      <td>4</td>\n",
              "      <td>47</td>\n",
              "      <td>5</td>\n",
              "      <td>638.00</td>\n",
              "    </tr>\n",
              "    <tr>\n",
              "      <th>1299</th>\n",
              "      <td>10</td>\n",
              "      <td>588</td>\n",
              "      <td>0</td>\n",
              "      <td>19</td>\n",
              "      <td>89</td>\n",
              "      <td>1</td>\n",
              "      <td>29</td>\n",
              "      <td>47</td>\n",
              "      <td>5</td>\n",
              "      <td>1499.00</td>\n",
              "    </tr>\n",
              "    <tr>\n",
              "      <th>1300</th>\n",
              "      <td>10</td>\n",
              "      <td>196</td>\n",
              "      <td>3</td>\n",
              "      <td>0</td>\n",
              "      <td>34</td>\n",
              "      <td>3</td>\n",
              "      <td>35</td>\n",
              "      <td>40</td>\n",
              "      <td>5</td>\n",
              "      <td>229.00</td>\n",
              "    </tr>\n",
              "    <tr>\n",
              "      <th>1301</th>\n",
              "      <td>7</td>\n",
              "      <td>2</td>\n",
              "      <td>3</td>\n",
              "      <td>0</td>\n",
              "      <td>89</td>\n",
              "      <td>7</td>\n",
              "      <td>10</td>\n",
              "      <td>21</td>\n",
              "      <td>5</td>\n",
              "      <td>764.00</td>\n",
              "    </tr>\n",
              "    <tr>\n",
              "      <th>1302</th>\n",
              "      <td>2</td>\n",
              "      <td>568</td>\n",
              "      <td>3</td>\n",
              "      <td>0</td>\n",
              "      <td>34</td>\n",
              "      <td>5</td>\n",
              "      <td>26</td>\n",
              "      <td>40</td>\n",
              "      <td>5</td>\n",
              "      <td>369.00</td>\n",
              "    </tr>\n",
              "  </tbody>\n",
              "</table>\n",
              "<p>1303 rows × 10 columns</p>\n",
              "</div>\n",
              "      <button class=\"colab-df-convert\" onclick=\"convertToInteractive('df-57bbd8ce-0eda-4238-b14d-4509e07691b4')\"\n",
              "              title=\"Convert this dataframe to an interactive table.\"\n",
              "              style=\"display:none;\">\n",
              "        \n",
              "  <svg xmlns=\"http://www.w3.org/2000/svg\" height=\"24px\"viewBox=\"0 0 24 24\"\n",
              "       width=\"24px\">\n",
              "    <path d=\"M0 0h24v24H0V0z\" fill=\"none\"/>\n",
              "    <path d=\"M18.56 5.44l.94 2.06.94-2.06 2.06-.94-2.06-.94-.94-2.06-.94 2.06-2.06.94zm-11 1L8.5 8.5l.94-2.06 2.06-.94-2.06-.94L8.5 2.5l-.94 2.06-2.06.94zm10 10l.94 2.06.94-2.06 2.06-.94-2.06-.94-.94-2.06-.94 2.06-2.06.94z\"/><path d=\"M17.41 7.96l-1.37-1.37c-.4-.4-.92-.59-1.43-.59-.52 0-1.04.2-1.43.59L10.3 9.45l-7.72 7.72c-.78.78-.78 2.05 0 2.83L4 21.41c.39.39.9.59 1.41.59.51 0 1.02-.2 1.41-.59l7.78-7.78 2.81-2.81c.8-.78.8-2.07 0-2.86zM5.41 20L4 18.59l7.72-7.72 1.47 1.35L5.41 20z\"/>\n",
              "  </svg>\n",
              "      </button>\n",
              "      \n",
              "  <style>\n",
              "    .colab-df-container {\n",
              "      display:flex;\n",
              "      flex-wrap:wrap;\n",
              "      gap: 12px;\n",
              "    }\n",
              "\n",
              "    .colab-df-convert {\n",
              "      background-color: #E8F0FE;\n",
              "      border: none;\n",
              "      border-radius: 50%;\n",
              "      cursor: pointer;\n",
              "      display: none;\n",
              "      fill: #1967D2;\n",
              "      height: 32px;\n",
              "      padding: 0 0 0 0;\n",
              "      width: 32px;\n",
              "    }\n",
              "\n",
              "    .colab-df-convert:hover {\n",
              "      background-color: #E2EBFA;\n",
              "      box-shadow: 0px 1px 2px rgba(60, 64, 67, 0.3), 0px 1px 3px 1px rgba(60, 64, 67, 0.15);\n",
              "      fill: #174EA6;\n",
              "    }\n",
              "\n",
              "    [theme=dark] .colab-df-convert {\n",
              "      background-color: #3B4455;\n",
              "      fill: #D2E3FC;\n",
              "    }\n",
              "\n",
              "    [theme=dark] .colab-df-convert:hover {\n",
              "      background-color: #434B5C;\n",
              "      box-shadow: 0px 1px 3px 1px rgba(0, 0, 0, 0.15);\n",
              "      filter: drop-shadow(0px 1px 2px rgba(0, 0, 0, 0.3));\n",
              "      fill: #FFFFFF;\n",
              "    }\n",
              "  </style>\n",
              "\n",
              "      <script>\n",
              "        const buttonEl =\n",
              "          document.querySelector('#df-57bbd8ce-0eda-4238-b14d-4509e07691b4 button.colab-df-convert');\n",
              "        buttonEl.style.display =\n",
              "          google.colab.kernel.accessAllowed ? 'block' : 'none';\n",
              "\n",
              "        async function convertToInteractive(key) {\n",
              "          const element = document.querySelector('#df-57bbd8ce-0eda-4238-b14d-4509e07691b4');\n",
              "          const dataTable =\n",
              "            await google.colab.kernel.invokeFunction('convertToInteractive',\n",
              "                                                     [key], {});\n",
              "          if (!dataTable) return;\n",
              "\n",
              "          const docLinkHtml = 'Like what you see? Visit the ' +\n",
              "            '<a target=\"_blank\" href=https://colab.research.google.com/notebooks/data_table.ipynb>data table notebook</a>'\n",
              "            + ' to learn more about interactive tables.';\n",
              "          element.innerHTML = '';\n",
              "          dataTable['output_type'] = 'display_data';\n",
              "          await google.colab.output.renderOutput(dataTable, element);\n",
              "          const docLink = document.createElement('div');\n",
              "          docLink.innerHTML = docLinkHtml;\n",
              "          element.appendChild(docLink);\n",
              "        }\n",
              "      </script>\n",
              "    </div>\n",
              "  </div>\n",
              "  "
            ]
          },
          "metadata": {},
          "execution_count": 121
        }
      ]
    },
    {
      "cell_type": "markdown",
      "source": [
        "#Models"
      ],
      "metadata": {
        "id": "w9g8wGbrg4xm"
      }
    },
    {
      "cell_type": "code",
      "source": [
        "from sklearn.model_selection import train_test_split\n",
        "X = df.drop(['Price_euros'],axis=1)\n",
        "Y = df['Price_euros'].values"
      ],
      "metadata": {
        "id": "5bx35_jshHeq"
      },
      "execution_count": 128,
      "outputs": []
    },
    {
      "cell_type": "code",
      "source": [
        "X_train, X_test, y_train, y_test = train_test_split(X, Y, test_size=0.20, random_state=42)"
      ],
      "metadata": {
        "id": "frOzLvEmhLW_"
      },
      "execution_count": 140,
      "outputs": []
    },
    {
      "cell_type": "code",
      "source": [
        "from sklearn.ensemble import RandomForestRegressor\n",
        "model2=RandomForestRegressor()\n",
        "model2.fit(X_train,y_train)\n",
        "model2.score(X_test,y_test)"
      ],
      "metadata": {
        "colab": {
          "base_uri": "https://localhost:8080/"
        },
        "id": "aAhs1S9KhZSh",
        "outputId": "de5bd4f5-0e41-4f52-ca81-b879cc0055f0"
      },
      "execution_count": 141,
      "outputs": [
        {
          "output_type": "execute_result",
          "data": {
            "text/plain": [
              "0.8449921595374056"
            ]
          },
          "metadata": {},
          "execution_count": 141
        }
      ]
    },
    {
      "cell_type": "markdown",
      "source": [
        "### **RandomForestRegressor Score 84% Accuracy**"
      ],
      "metadata": {
        "id": "SqokLKzMh1oJ"
      }
    }
  ]
}